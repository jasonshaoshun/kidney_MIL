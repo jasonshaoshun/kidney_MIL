{
  "nbformat": 4,
  "nbformat_minor": 0,
  "metadata": {
    "colab": {
      "name": "attention_max_model.ipynb",
      "provenance": [],
      "collapsed_sections": [],
      "toc_visible": true,
      "machine_shape": "hm"
    },
    "kernelspec": {
      "name": "python3",
      "display_name": "Python 3"
    },
    "language_info": {
      "name": "python"
    },
    "accelerator": "GPU",
    "widgets": {
      "application/vnd.jupyter.widget-state+json": {
        "12cd0579fcd84513b7728b086496f2c0": {
          "model_module": "@jupyter-widgets/controls",
          "model_name": "HBoxModel",
          "state": {
            "_view_name": "HBoxView",
            "_dom_classes": [],
            "_model_name": "HBoxModel",
            "_view_module": "@jupyter-widgets/controls",
            "_model_module_version": "1.5.0",
            "_view_count": null,
            "_view_module_version": "1.5.0",
            "box_style": "",
            "layout": "IPY_MODEL_4967e644493a4abca7d550a22993246f",
            "_model_module": "@jupyter-widgets/controls",
            "children": [
              "IPY_MODEL_1e6f51d2a22e40ecbcc7ec06c565153f",
              "IPY_MODEL_169942ee7b1940daa6ab1e8dc84e6efb"
            ]
          }
        },
        "4967e644493a4abca7d550a22993246f": {
          "model_module": "@jupyter-widgets/base",
          "model_name": "LayoutModel",
          "state": {
            "_view_name": "LayoutView",
            "grid_template_rows": null,
            "right": null,
            "justify_content": null,
            "_view_module": "@jupyter-widgets/base",
            "overflow": null,
            "_model_module_version": "1.2.0",
            "_view_count": null,
            "flex_flow": null,
            "width": null,
            "min_width": null,
            "border": null,
            "align_items": null,
            "bottom": null,
            "_model_module": "@jupyter-widgets/base",
            "top": null,
            "grid_column": null,
            "overflow_y": null,
            "overflow_x": null,
            "grid_auto_flow": null,
            "grid_area": null,
            "grid_template_columns": null,
            "flex": null,
            "_model_name": "LayoutModel",
            "justify_items": null,
            "grid_row": null,
            "max_height": null,
            "align_content": null,
            "visibility": null,
            "align_self": null,
            "height": null,
            "min_height": null,
            "padding": null,
            "grid_auto_rows": null,
            "grid_gap": null,
            "max_width": null,
            "order": null,
            "_view_module_version": "1.2.0",
            "grid_template_areas": null,
            "object_position": null,
            "object_fit": null,
            "grid_auto_columns": null,
            "margin": null,
            "display": null,
            "left": null
          }
        },
        "1e6f51d2a22e40ecbcc7ec06c565153f": {
          "model_module": "@jupyter-widgets/controls",
          "model_name": "FloatProgressModel",
          "state": {
            "_view_name": "ProgressView",
            "style": "IPY_MODEL_8da2789ed12047ef962db196f5d84b95",
            "_dom_classes": [],
            "description": "100%",
            "_model_name": "FloatProgressModel",
            "bar_style": "success",
            "max": 46827520,
            "_view_module": "@jupyter-widgets/controls",
            "_model_module_version": "1.5.0",
            "value": 46827520,
            "_view_count": null,
            "_view_module_version": "1.5.0",
            "orientation": "horizontal",
            "min": 0,
            "description_tooltip": null,
            "_model_module": "@jupyter-widgets/controls",
            "layout": "IPY_MODEL_2e74810b9b2641c2a69bbcf7117175ff"
          }
        },
        "169942ee7b1940daa6ab1e8dc84e6efb": {
          "model_module": "@jupyter-widgets/controls",
          "model_name": "HTMLModel",
          "state": {
            "_view_name": "HTMLView",
            "style": "IPY_MODEL_b9feab1c533b497094c288847a7d7f1f",
            "_dom_classes": [],
            "description": "",
            "_model_name": "HTMLModel",
            "placeholder": "​",
            "_view_module": "@jupyter-widgets/controls",
            "_model_module_version": "1.5.0",
            "value": " 44.7M/44.7M [00:07&lt;00:00, 5.99MB/s]",
            "_view_count": null,
            "_view_module_version": "1.5.0",
            "description_tooltip": null,
            "_model_module": "@jupyter-widgets/controls",
            "layout": "IPY_MODEL_5f86006856b9408596ae955a4fa6fdc3"
          }
        },
        "8da2789ed12047ef962db196f5d84b95": {
          "model_module": "@jupyter-widgets/controls",
          "model_name": "ProgressStyleModel",
          "state": {
            "_view_name": "StyleView",
            "_model_name": "ProgressStyleModel",
            "description_width": "initial",
            "_view_module": "@jupyter-widgets/base",
            "_model_module_version": "1.5.0",
            "_view_count": null,
            "_view_module_version": "1.2.0",
            "bar_color": null,
            "_model_module": "@jupyter-widgets/controls"
          }
        },
        "2e74810b9b2641c2a69bbcf7117175ff": {
          "model_module": "@jupyter-widgets/base",
          "model_name": "LayoutModel",
          "state": {
            "_view_name": "LayoutView",
            "grid_template_rows": null,
            "right": null,
            "justify_content": null,
            "_view_module": "@jupyter-widgets/base",
            "overflow": null,
            "_model_module_version": "1.2.0",
            "_view_count": null,
            "flex_flow": null,
            "width": null,
            "min_width": null,
            "border": null,
            "align_items": null,
            "bottom": null,
            "_model_module": "@jupyter-widgets/base",
            "top": null,
            "grid_column": null,
            "overflow_y": null,
            "overflow_x": null,
            "grid_auto_flow": null,
            "grid_area": null,
            "grid_template_columns": null,
            "flex": null,
            "_model_name": "LayoutModel",
            "justify_items": null,
            "grid_row": null,
            "max_height": null,
            "align_content": null,
            "visibility": null,
            "align_self": null,
            "height": null,
            "min_height": null,
            "padding": null,
            "grid_auto_rows": null,
            "grid_gap": null,
            "max_width": null,
            "order": null,
            "_view_module_version": "1.2.0",
            "grid_template_areas": null,
            "object_position": null,
            "object_fit": null,
            "grid_auto_columns": null,
            "margin": null,
            "display": null,
            "left": null
          }
        },
        "b9feab1c533b497094c288847a7d7f1f": {
          "model_module": "@jupyter-widgets/controls",
          "model_name": "DescriptionStyleModel",
          "state": {
            "_view_name": "StyleView",
            "_model_name": "DescriptionStyleModel",
            "description_width": "",
            "_view_module": "@jupyter-widgets/base",
            "_model_module_version": "1.5.0",
            "_view_count": null,
            "_view_module_version": "1.2.0",
            "_model_module": "@jupyter-widgets/controls"
          }
        },
        "5f86006856b9408596ae955a4fa6fdc3": {
          "model_module": "@jupyter-widgets/base",
          "model_name": "LayoutModel",
          "state": {
            "_view_name": "LayoutView",
            "grid_template_rows": null,
            "right": null,
            "justify_content": null,
            "_view_module": "@jupyter-widgets/base",
            "overflow": null,
            "_model_module_version": "1.2.0",
            "_view_count": null,
            "flex_flow": null,
            "width": null,
            "min_width": null,
            "border": null,
            "align_items": null,
            "bottom": null,
            "_model_module": "@jupyter-widgets/base",
            "top": null,
            "grid_column": null,
            "overflow_y": null,
            "overflow_x": null,
            "grid_auto_flow": null,
            "grid_area": null,
            "grid_template_columns": null,
            "flex": null,
            "_model_name": "LayoutModel",
            "justify_items": null,
            "grid_row": null,
            "max_height": null,
            "align_content": null,
            "visibility": null,
            "align_self": null,
            "height": null,
            "min_height": null,
            "padding": null,
            "grid_auto_rows": null,
            "grid_gap": null,
            "max_width": null,
            "order": null,
            "_view_module_version": "1.2.0",
            "grid_template_areas": null,
            "object_position": null,
            "object_fit": null,
            "grid_auto_columns": null,
            "margin": null,
            "display": null,
            "left": null
          }
        },
        "95a1ee7a33cd444782da951732c6927d": {
          "model_module": "@jupyter-widgets/controls",
          "model_name": "HBoxModel",
          "state": {
            "_view_name": "HBoxView",
            "_dom_classes": [],
            "_model_name": "HBoxModel",
            "_view_module": "@jupyter-widgets/controls",
            "_model_module_version": "1.5.0",
            "_view_count": null,
            "_view_module_version": "1.5.0",
            "box_style": "",
            "layout": "IPY_MODEL_a42d54b74e00438d9bea1281fe9d640d",
            "_model_module": "@jupyter-widgets/controls",
            "children": [
              "IPY_MODEL_939c34518f744a55a8cb788dd8641b4a",
              "IPY_MODEL_fc3ab5934ebb4807bb5aced6628c1913"
            ]
          }
        },
        "a42d54b74e00438d9bea1281fe9d640d": {
          "model_module": "@jupyter-widgets/base",
          "model_name": "LayoutModel",
          "state": {
            "_view_name": "LayoutView",
            "grid_template_rows": null,
            "right": null,
            "justify_content": null,
            "_view_module": "@jupyter-widgets/base",
            "overflow": null,
            "_model_module_version": "1.2.0",
            "_view_count": null,
            "flex_flow": null,
            "width": null,
            "min_width": null,
            "border": null,
            "align_items": null,
            "bottom": null,
            "_model_module": "@jupyter-widgets/base",
            "top": null,
            "grid_column": null,
            "overflow_y": null,
            "overflow_x": null,
            "grid_auto_flow": null,
            "grid_area": null,
            "grid_template_columns": null,
            "flex": null,
            "_model_name": "LayoutModel",
            "justify_items": null,
            "grid_row": null,
            "max_height": null,
            "align_content": null,
            "visibility": null,
            "align_self": null,
            "height": null,
            "min_height": null,
            "padding": null,
            "grid_auto_rows": null,
            "grid_gap": null,
            "max_width": null,
            "order": null,
            "_view_module_version": "1.2.0",
            "grid_template_areas": null,
            "object_position": null,
            "object_fit": null,
            "grid_auto_columns": null,
            "margin": null,
            "display": null,
            "left": null
          }
        },
        "939c34518f744a55a8cb788dd8641b4a": {
          "model_module": "@jupyter-widgets/controls",
          "model_name": "FloatProgressModel",
          "state": {
            "_view_name": "ProgressView",
            "style": "IPY_MODEL_8468866baa884b89b7db49a6c6b4168e",
            "_dom_classes": [],
            "description": "100%",
            "_model_name": "FloatProgressModel",
            "bar_style": "success",
            "max": 46827520,
            "_view_module": "@jupyter-widgets/controls",
            "_model_module_version": "1.5.0",
            "value": 46827520,
            "_view_count": null,
            "_view_module_version": "1.5.0",
            "orientation": "horizontal",
            "min": 0,
            "description_tooltip": null,
            "_model_module": "@jupyter-widgets/controls",
            "layout": "IPY_MODEL_ef8ec5baaa1e4c389112ff792948d517"
          }
        },
        "fc3ab5934ebb4807bb5aced6628c1913": {
          "model_module": "@jupyter-widgets/controls",
          "model_name": "HTMLModel",
          "state": {
            "_view_name": "HTMLView",
            "style": "IPY_MODEL_42de22943ad14ee8b4c30c02be0f7468",
            "_dom_classes": [],
            "description": "",
            "_model_name": "HTMLModel",
            "placeholder": "​",
            "_view_module": "@jupyter-widgets/controls",
            "_model_module_version": "1.5.0",
            "value": " 44.7M/44.7M [37:37&lt;00:00, 20.7kB/s]",
            "_view_count": null,
            "_view_module_version": "1.5.0",
            "description_tooltip": null,
            "_model_module": "@jupyter-widgets/controls",
            "layout": "IPY_MODEL_3f426bd794fb497b85ab377293291bbb"
          }
        },
        "8468866baa884b89b7db49a6c6b4168e": {
          "model_module": "@jupyter-widgets/controls",
          "model_name": "ProgressStyleModel",
          "state": {
            "_view_name": "StyleView",
            "_model_name": "ProgressStyleModel",
            "description_width": "initial",
            "_view_module": "@jupyter-widgets/base",
            "_model_module_version": "1.5.0",
            "_view_count": null,
            "_view_module_version": "1.2.0",
            "bar_color": null,
            "_model_module": "@jupyter-widgets/controls"
          }
        },
        "ef8ec5baaa1e4c389112ff792948d517": {
          "model_module": "@jupyter-widgets/base",
          "model_name": "LayoutModel",
          "state": {
            "_view_name": "LayoutView",
            "grid_template_rows": null,
            "right": null,
            "justify_content": null,
            "_view_module": "@jupyter-widgets/base",
            "overflow": null,
            "_model_module_version": "1.2.0",
            "_view_count": null,
            "flex_flow": null,
            "width": null,
            "min_width": null,
            "border": null,
            "align_items": null,
            "bottom": null,
            "_model_module": "@jupyter-widgets/base",
            "top": null,
            "grid_column": null,
            "overflow_y": null,
            "overflow_x": null,
            "grid_auto_flow": null,
            "grid_area": null,
            "grid_template_columns": null,
            "flex": null,
            "_model_name": "LayoutModel",
            "justify_items": null,
            "grid_row": null,
            "max_height": null,
            "align_content": null,
            "visibility": null,
            "align_self": null,
            "height": null,
            "min_height": null,
            "padding": null,
            "grid_auto_rows": null,
            "grid_gap": null,
            "max_width": null,
            "order": null,
            "_view_module_version": "1.2.0",
            "grid_template_areas": null,
            "object_position": null,
            "object_fit": null,
            "grid_auto_columns": null,
            "margin": null,
            "display": null,
            "left": null
          }
        },
        "42de22943ad14ee8b4c30c02be0f7468": {
          "model_module": "@jupyter-widgets/controls",
          "model_name": "DescriptionStyleModel",
          "state": {
            "_view_name": "StyleView",
            "_model_name": "DescriptionStyleModel",
            "description_width": "",
            "_view_module": "@jupyter-widgets/base",
            "_model_module_version": "1.5.0",
            "_view_count": null,
            "_view_module_version": "1.2.0",
            "_model_module": "@jupyter-widgets/controls"
          }
        },
        "3f426bd794fb497b85ab377293291bbb": {
          "model_module": "@jupyter-widgets/base",
          "model_name": "LayoutModel",
          "state": {
            "_view_name": "LayoutView",
            "grid_template_rows": null,
            "right": null,
            "justify_content": null,
            "_view_module": "@jupyter-widgets/base",
            "overflow": null,
            "_model_module_version": "1.2.0",
            "_view_count": null,
            "flex_flow": null,
            "width": null,
            "min_width": null,
            "border": null,
            "align_items": null,
            "bottom": null,
            "_model_module": "@jupyter-widgets/base",
            "top": null,
            "grid_column": null,
            "overflow_y": null,
            "overflow_x": null,
            "grid_auto_flow": null,
            "grid_area": null,
            "grid_template_columns": null,
            "flex": null,
            "_model_name": "LayoutModel",
            "justify_items": null,
            "grid_row": null,
            "max_height": null,
            "align_content": null,
            "visibility": null,
            "align_self": null,
            "height": null,
            "min_height": null,
            "padding": null,
            "grid_auto_rows": null,
            "grid_gap": null,
            "max_width": null,
            "order": null,
            "_view_module_version": "1.2.0",
            "grid_template_areas": null,
            "object_position": null,
            "object_fit": null,
            "grid_auto_columns": null,
            "margin": null,
            "display": null,
            "left": null
          }
        }
      }
    }
  },
  "cells": [
    {
      "cell_type": "code",
      "metadata": {
        "id": "FqO5V3C7jc42",
        "colab": {
          "base_uri": "https://localhost:8080/"
        },
        "outputId": "90a0cc44-ff4a-45e0-ee36-eda7a5a48880"
      },
      "source": [
        "gpu_info = !nvidia-smi\n",
        "gpu_info = '\\n'.join(gpu_info)\n",
        "if gpu_info.find('failed') >= 0:\n",
        "  print('Select the Runtime > \"Change runtime type\" menu to enable a GPU accelerator, ')\n",
        "  print('and then re-execute this cell.')\n",
        "else:\n",
        "  print(gpu_info)"
      ],
      "execution_count": null,
      "outputs": [
        {
          "output_type": "stream",
          "text": [
            "Fri May  7 16:22:00 2021       \n",
            "+-----------------------------------------------------------------------------+\n",
            "| NVIDIA-SMI 465.19.01    Driver Version: 460.32.03    CUDA Version: 11.2     |\n",
            "|-------------------------------+----------------------+----------------------+\n",
            "| GPU  Name        Persistence-M| Bus-Id        Disp.A | Volatile Uncorr. ECC |\n",
            "| Fan  Temp  Perf  Pwr:Usage/Cap|         Memory-Usage | GPU-Util  Compute M. |\n",
            "|                               |                      |               MIG M. |\n",
            "|===============================+======================+======================|\n",
            "|   0  Tesla P100-PCIE...  Off  | 00000000:00:04.0 Off |                    0 |\n",
            "| N/A   37C    P0    25W / 250W |      0MiB / 16280MiB |      0%      Default |\n",
            "|                               |                      |                  N/A |\n",
            "+-------------------------------+----------------------+----------------------+\n",
            "                                                                               \n",
            "+-----------------------------------------------------------------------------+\n",
            "| Processes:                                                                  |\n",
            "|  GPU   GI   CI        PID   Type   Process name                  GPU Memory |\n",
            "|        ID   ID                                                   Usage      |\n",
            "|=============================================================================|\n",
            "|  No running processes found                                                 |\n",
            "+-----------------------------------------------------------------------------+\n"
          ],
          "name": "stdout"
        }
      ]
    },
    {
      "cell_type": "code",
      "metadata": {
        "id": "JGqKQk_Sjj0e",
        "colab": {
          "base_uri": "https://localhost:8080/"
        },
        "outputId": "eea63ae1-d8e0-4703-b3d0-26b947351087"
      },
      "source": [
        "from psutil import virtual_memory\n",
        "ram_gb = virtual_memory().total / 1e9\n",
        "print('Your runtime has {:.1f} gigabytes of available RAM\\n'.format(ram_gb))\n",
        "\n",
        "if ram_gb < 20:\n",
        "  print('To enable a high-RAM runtime, select the Runtime > \"Change runtime type\"')\n",
        "  print('menu, and then select High-RAM in the Runtime shape dropdown. Then, ')\n",
        "  print('re-execute this cell.')\n",
        "else:\n",
        "  print('You are using a high-RAM runtime!')"
      ],
      "execution_count": null,
      "outputs": [
        {
          "output_type": "stream",
          "text": [
            "Your runtime has 27.4 gigabytes of available RAM\n",
            "\n",
            "You are using a high-RAM runtime!\n"
          ],
          "name": "stdout"
        }
      ]
    },
    {
      "cell_type": "markdown",
      "metadata": {
        "id": "Sd629ESDjlJC"
      },
      "source": [
        "# Data Download"
      ]
    },
    {
      "cell_type": "code",
      "metadata": {
        "id": "0Xqdr0qJjkTg"
      },
      "source": [
        "import torch\n",
        "import torch.nn as nn\n",
        "import torch.nn.functional as F\n",
        "from torchvision.utils import make_grid\n",
        "import torch.utils.data\n",
        "from torch.utils.tensorboard import SummaryWriter\n",
        "from torchsummary import summary\n",
        "import torch.tensor as tensor\n",
        "import time\n",
        "import copy\n",
        "from torchvision import models, transforms\n",
        "import os\n",
        "import random\n",
        "import numpy as np\n",
        "import matplotlib.pyplot as plt\n",
        "from tqdm import tqdm\n",
        "from sklearn.metrics import roc_curve, auc\n",
        "from PIL import Image\n",
        "\n",
        "from __future__ import print_function\n",
        "import numpy as np\n",
        "import argparse\n",
        "import torch.utils.data as data_utils\n",
        "import torch.optim as optim\n",
        "from torch.autograd import Variable\n",
        "import tensorflow as tf\n",
        "import datetime, os\n",
        "\n",
        "cuda = torch.device('cuda')"
      ],
      "execution_count": null,
      "outputs": []
    },
    {
      "cell_type": "code",
      "metadata": {
        "id": "-yeDnMZYjpPq",
        "colab": {
          "base_uri": "https://localhost:8080/"
        },
        "outputId": "0dd3d7a0-43ee-45e6-bd49-993585b2c57f"
      },
      "source": [
        "# !pip install googledrivedownloader\n",
        "# from google_drive_downloader import GoogleDriveDownloader as gdd\n",
        "# gdd.download_file_from_google_drive(file_id='13vFqjgBqTWLuBwAVSOmZ8HotckfIZjor',\n",
        "#                                     dest_path='/tmp/tcga/filtered.zip',\n",
        "#                                     unzip=True)\n",
        "# !rm /tmp/tcga/filtered.zip\n",
        "\n",
        "# https://drive.google.com/file/d/1SmsFlYp2CHndQ4Jx_ngHtQfzIT6_4wfO/view?usp=sharing\n",
        "!pip install googledrivedownloader\n",
        "from google_drive_downloader import GoogleDriveDownloader as gdd\n",
        "gdd.download_file_from_google_drive(file_id='1SmsFlYp2CHndQ4Jx_ngHtQfzIT6_4wfO',\n",
        "                                    dest_path='/tmp/tcga/filtered.zip',\n",
        "                                    unzip=True)\n",
        "!rm /tmp/tcga/filtered.zip"
      ],
      "execution_count": null,
      "outputs": [
        {
          "output_type": "stream",
          "text": [
            "Requirement already satisfied: googledrivedownloader in /usr/local/lib/python3.7/dist-packages (0.4)\n",
            "Downloading 1SmsFlYp2CHndQ4Jx_ngHtQfzIT6_4wfO into /tmp/tcga/filtered.zip... Done.\n",
            "Unzipping...Done.\n"
          ],
          "name": "stdout"
        }
      ]
    },
    {
      "cell_type": "code",
      "metadata": {
        "id": "66EeZXZOjriE",
        "colab": {
          "base_uri": "https://localhost:8080/"
        },
        "outputId": "b0a68844-c527-40e4-ac18-26305256d4a8"
      },
      "source": [
        "# from google_drive_downloader import GoogleDriveDownloader as gdd\n",
        "# gdd.download_file_from_google_drive(file_id='1WCQ8l-Q-BAGnOczwMXWtmtHySvROaC14',\n",
        "#                                     dest_path='/tmp/tcga/has_been_moved_and_filtered',\n",
        "#                                     unzip=False)\n",
        "\n",
        "from google_drive_downloader import GoogleDriveDownloader as gdd\n",
        "gdd.download_file_from_google_drive(file_id='1ae3IfTucMSsUNEnC-HNbAaycDjIkI1T0',\n",
        "                                    dest_path='/tmp/tcga/has_been_moved_and_filtered',\n",
        "                                    unzip=False)"
      ],
      "execution_count": null,
      "outputs": [
        {
          "output_type": "stream",
          "text": [
            "Downloading 1ae3IfTucMSsUNEnC-HNbAaycDjIkI1T0 into /tmp/tcga/has_been_moved_and_filtered... Done.\n"
          ],
          "name": "stdout"
        }
      ]
    },
    {
      "cell_type": "code",
      "metadata": {
        "id": "7fzSrmX6jths"
      },
      "source": [
        "# filtered_tiles_output_folder = /tmp/tcga/filtered_tiles/\n",
        "has_been_filtered_filename = \"/tmp/tcga/has_been_moved_and_filtered\"\n",
        "data_folders = open(has_been_filtered_filename, 'r').read().splitlines()"
      ],
      "execution_count": null,
      "outputs": []
    },
    {
      "cell_type": "code",
      "metadata": {
        "id": "IbbnsrWcju6A"
      },
      "source": [
        "slides_folders = list(map(lambda f: os.path.join(\"/tmp/tcga/\", f.replace(\"/Users/shunshao/Documents/GitHub/tcga_segmentation/output_folder/\", \"/tmp/tcga/\")), data_folders))"
      ],
      "execution_count": null,
      "outputs": []
    },
    {
      "cell_type": "code",
      "metadata": {
        "id": "A2RgqW4tjwdo",
        "colab": {
          "base_uri": "https://localhost:8080/"
        },
        "outputId": "cb081878-e4f2-41de-cc9c-5526516c6df4"
      },
      "source": [
        "len(slides_folders)"
      ],
      "execution_count": null,
      "outputs": [
        {
          "output_type": "execute_result",
          "data": {
            "text/plain": [
              "49"
            ]
          },
          "metadata": {
            "tags": []
          },
          "execution_count": 8
        }
      ]
    },
    {
      "cell_type": "code",
      "metadata": {
        "id": "sU8a-WdDjxqr",
        "colab": {
          "base_uri": "https://localhost:8080/"
        },
        "outputId": "130293e2-31dc-43d6-816d-c6cd49ab188e"
      },
      "source": [
        "slides_folders"
      ],
      "execution_count": null,
      "outputs": [
        {
          "output_type": "execute_result",
          "data": {
            "text/plain": [
              "['/tmp/tcga/filtered_tiles/TCGA-BP-4969-11A-01-TS1.c1c429b7-7769-48b5-b3fd-3dce5aa4c19a.svs',\n",
              " '/tmp/tcga/filtered_tiles/TCGA-CW-5585-01A-01-TS1.08dbf72d-9d28-4267-89d6-bfab37f33096.svs',\n",
              " '/tmp/tcga/filtered_tiles/TCGA-AK-3460-01A-02-BS2.effbb5e1-726b-426b-a060-5fdc565fadb9.svs',\n",
              " '/tmp/tcga/filtered_tiles/TCGA-A3-3387-01A-01-TS1.d0719d8d-1e96-407f-b647-06171061db34.svs',\n",
              " '/tmp/tcga/filtered_tiles/TCGA-A3-3365-01Z-00-DX1.dc5b8d77-b5ba-47c8-b536-a8f1ed458ed3.svs',\n",
              " '/tmp/tcga/filtered_tiles/TCGA-A3-3352-01A-01-TS1.d3c4f914-3145-4f6c-911f-46fd569589d1.svs',\n",
              " '/tmp/tcga/filtered_tiles/TCGA-B8-4620-01A-01-TS1.f45ec4b6-52aa-496a-b047-3665a98a448f.svs',\n",
              " '/tmp/tcga/filtered_tiles/TCGA-AK-3447-01A-01-BS1.d736ff05-4908-447f-8b63-334a59540b82.svs',\n",
              " '/tmp/tcga/filtered_tiles/TCGA-B0-5121-11A-01-TS1.01317588-26dd-4337-86c0-d3bfcf066c23.svs',\n",
              " '/tmp/tcga/filtered_tiles/TCGA-B8-5552-01B-01-TS1.7cfbbaef-3cf6-4ea1-825e-b521d282b9ab.svs',\n",
              " '/tmp/tcga/filtered_tiles/TCGA-AS-3777-01A-01-BS1.5a03479b-afa6-43d4-829c-8500e76bcd8a.svs',\n",
              " '/tmp/tcga/filtered_tiles/TCGA-B2-5633-01B-04-BS4.B63ED0AD-B3F7-4C32-A20D-37244BDA7E48.svs',\n",
              " '/tmp/tcga/filtered_tiles/TCGA-B0-4841-01A-01-BS1.64ff8ede-1182-4836-8a9a-6b943c0085f8.svs',\n",
              " '/tmp/tcga/filtered_tiles/TCGA-B2-5641-11A-01-TS1.eb8c4cab-1e90-4111-84d5-f4aa045b7872.svs',\n",
              " '/tmp/tcga/filtered_tiles/TCGA-AK-3451-01A-02-BS2.03783f75-ebbd-4dd7-baff-3ad8c2527e58.svs',\n",
              " '/tmp/tcga/filtered_tiles/TCGA-A3-3380-01A-01-TS1.6455da58-f102-4927-9c84-da7a3e585766.svs',\n",
              " '/tmp/tcga/filtered_tiles/TCGA-A3-3385-01A-01-BS1.a6db0617-fbcd-45f0-85e0-b65f5e77acd9.svs',\n",
              " '/tmp/tcga/filtered_tiles/TCGA-B0-4841-11A-01-TS1.186c1682-0c95-4247-ab64-4341f33cabe9.svs',\n",
              " '/tmp/tcga/filtered_tiles/TCGA-B0-5108-11A-01-TS1.b16643f5-9542-4f24-9969-536c0cb5cc0d.svs',\n",
              " '/tmp/tcga/filtered_tiles/TCGA-B0-4847-01A-01-TS1.83331af8-0864-4709-98e6-9c29cd719caf.svs',\n",
              " '/tmp/tcga/filtered_tiles/TCGA-BP-5173-01A-01-TS1.cd7832d0-ed3b-482b-a8bd-e572c140c6d1.svs',\n",
              " '/tmp/tcga/filtered_tiles/TCGA-B0-5080-11A-01-TS1.ac78ccf8-fc77-4762-9466-2207e387dce4.svs',\n",
              " '/tmp/tcga/filtered_tiles/TCGA-B0-4713-11A-01-TS1.3d1c7d2d-19ab-4d2e-bb5a-8feea98d5021.svs',\n",
              " '/tmp/tcga/filtered_tiles/TCGA-AK-3465-01A-02-BS2.0ca60c0c-66a0-4866-8542-102586b1a3fd.svs',\n",
              " '/tmp/tcga/filtered_tiles/TCGA-B8-4619-01A-01-BS1.fc69c5d9-a218-4922-a2d1-cc748139c6d4.svs',\n",
              " '/tmp/tcga/filtered_tiles/TCGA-B8-4619-01A-02-BS2.f126b683-3d94-4ce0-b71f-8d4bfcd6918f.svs',\n",
              " '/tmp/tcga/filtered_tiles/TCGA-B0-4838-01A-01-TS1.5815f039-af07-456c-809b-40de9f4e4e1e.svs',\n",
              " '/tmp/tcga/filtered_tiles/TCGA-A3-3358-01A-01-TS1.461245d8-0ac1-4bf2-8433-9414fdda0831.svs',\n",
              " '/tmp/tcga/filtered_tiles/TCGA-CJ-5683-11A-01-TS1.c734151a-d244-4805-bb96-a18a4e594368.svs',\n",
              " '/tmp/tcga/filtered_tiles/TCGA-B0-5088-11A-01-TS1.481546e6-ba46-4c6a-9998-d7d0e0c84b74.svs',\n",
              " '/tmp/tcga/filtered_tiles/TCGA-B0-5102-11A-01-TS1.1696e9bc-b42b-49ac-ba83-df21409d1f29.svs',\n",
              " '/tmp/tcga/filtered_tiles/TCGA-B0-4819-01A-01-TS1.758e708e-73f4-43d5-9783-974ba16a766a.svs',\n",
              " '/tmp/tcga/filtered_tiles/TCGA-B0-4837-11A-01-TS1.178b59a3-f441-4bc9-aeff-7328bad32208.svs',\n",
              " '/tmp/tcga/filtered_tiles/TCGA-CZ-4861-11A-01-BS1.4d4e9433-25a2-4429-a8e8-24185be1370d.svs',\n",
              " '/tmp/tcga/filtered_tiles/TCGA-A3-A6NJ-11A-01-TS1.129CB7FA-9224-42F2-9F2C-9FFCA5C7445E.svs',\n",
              " '/tmp/tcga/filtered_tiles/TCGA-A3-3336-01A-01-TS1.a5c05841-a537-4b50-a71d-63ce5adf04fe.svs',\n",
              " '/tmp/tcga/filtered_tiles/TCGA-AK-3430-01A-01-BS1.1ba811d9-4ede-43f1-bfe2-b11db2e00481.svs',\n",
              " '/tmp/tcga/filtered_tiles/TCGA-AS-3778-01A-01-BS1.838dc562-12f5-4b3d-8dd8-9363e00e9dd9.svs',\n",
              " '/tmp/tcga/filtered_tiles/TCGA-A3-3373-01A-01-BS1.7a02cdfa-64e3-4a97-a7a7-2ee92a8bdf1c.svs',\n",
              " '/tmp/tcga/filtered_tiles/TCGA-B0-4841-01A-01-TS1.0c375369-3a29-4104-ae17-5769766c60d8.svs',\n",
              " '/tmp/tcga/filtered_tiles/TCGA-AS-3777-01A-01-TS1.d1b5b7b7-aac2-44fb-815f-bde490643928.svs',\n",
              " '/tmp/tcga/filtered_tiles/TCGA-A3-3306-11A-01-TS1.c622542f-4cd2-4dd7-a67c-06094e11bd3f.svs',\n",
              " '/tmp/tcga/filtered_tiles/TCGA-B2-A4SR-11A-01-TS1.E93B4BAE-0A46-4A61-8055-908050EE9546.svs',\n",
              " '/tmp/tcga/filtered_tiles/TCGA-B8-5162-01A-01-BS1.72486129-2b25-4fe0-ba41-517823134d58.svs',\n",
              " '/tmp/tcga/filtered_tiles/TCGA-A3-3307-01A-01-TS1.1b385aec-9f0b-4790-a12a-75f74ccc6133.svs',\n",
              " '/tmp/tcga/filtered_tiles/TCGA-CW-5589-01A-01-TS1.d704b905-075c-4149-b882-0ea19a3b069f.svs',\n",
              " '/tmp/tcga/filtered_tiles/TCGA-B0-5094-01A-01-TS1.60bfdb27-cbf5-4b5e-9d35-393dbbfa9bb2.svs',\n",
              " '/tmp/tcga/filtered_tiles/TCGA-BP-5001-11A-01-TS1.460a8c71-c591-4d95-af1e-2c2fc1124664.svs',\n",
              " '/tmp/tcga/filtered_tiles/TCGA-A3-3352-01A-01-BS1.a9600d95-12d3-481d-b456-3998590c2ef1.svs']"
            ]
          },
          "metadata": {
            "tags": []
          },
          "execution_count": 9
        }
      ]
    },
    {
      "cell_type": "markdown",
      "metadata": {
        "id": "ZanLb3uHj0wQ"
      },
      "source": [
        "# 2. Build the dataset"
      ]
    },
    {
      "cell_type": "code",
      "metadata": {
        "id": "iS-AcXrBj12K"
      },
      "source": [
        "# Dataset\n",
        "def pil_loader(path):\n",
        "    # open path as file to avoid ResourceWarning (https://github.com/python-pillow/Pillow/issues/835)\n",
        "    with open(path, 'rb') as f:\n",
        "        img = Image.open(f)\n",
        "        return img.convert('RGB')\n",
        "\n",
        "\n",
        "class Dataset(torch.utils.data.dataset.Dataset):\n",
        "    def __init__(self, slides_folders, model_input_size, is_training, max_bag_size, logger, max_dataset_size=None,\n",
        "                 with_data_augmentation=True, seed=123, normalization_mean=None, normalization_std=None):\n",
        "        \"\"\"\n",
        "        :param slides_folders: list of abs paths of slide folder (which should contains images, summary/label/percent\n",
        "            files\n",
        "        :param model_input_size: expected model input size (for cropping)\n",
        "        :param is_training: True if is training, else False (for data augmentation)\n",
        "        :param max_bag_size: maximum number of instances to be returned per bag\n",
        "        \"\"\"\n",
        "\n",
        "        def verify_slide_folder_exists(slide_folder):\n",
        "            if not os.path.exists(slide_folder):\n",
        "                raise FileExistsError('parent dataset folder %s does not exist' % slide_folder)\n",
        "\n",
        "        list(map(verify_slide_folder_exists, slides_folders))\n",
        "\n",
        "        # self.slides_folders = np.asarray(slides_folders)\n",
        "        self.slides_folders = slides_folders\n",
        "        self.model_input_size = model_input_size\n",
        "        self.max_bag_size = max_bag_size\n",
        "        self.max_dataset_size = max_dataset_size\n",
        "\n",
        "        self.is_training = is_training\n",
        "\n",
        "        # self.logger = logger\n",
        "\n",
        "        self.slides_ids = []  # ids slides\n",
        "        self.slides_labels = []  # raw str labels\n",
        "        self.slides_summaries = []  # list of all initial tiles of slides\n",
        "        self.slides_cases = []  # list of all cases IDs\n",
        "        self.slides_images_filepaths = []  # list of all in-dataset tilespaths of slides\n",
        "\n",
        "        self.with_data_augmentation = with_data_augmentation\n",
        "        normalization_mean = (0, 0, 0) if normalization_mean is None else normalization_mean\n",
        "        normalization_std = (1, 1, 1) if normalization_std is None else normalization_std\n",
        "        self.transform = self._define_data_transforms(normalization_mean, normalization_std)\n",
        "\n",
        "        self.seed = seed\n",
        "\n",
        "        slides_ids, slides_labels, slides_summaries, slides_cases, slides_images_filepaths = self.load_data()\n",
        "        self.slides_ids = slides_ids\n",
        "        self.slides_labels = slides_labels\n",
        "        self.slides_summaries = slides_summaries\n",
        "        self.slides_cases = slides_cases\n",
        "        self.slides_images_filepaths = slides_images_filepaths\n",
        "\n",
        "        assert len(self.slides_ids) == len(self.slides_labels) == len(self.slides_summaries) == \\\n",
        "               len(self.slides_images_filepaths), 'mismatch in slides containers lengths %s' % (\n",
        "            ' '.join(str(len(l)) for l in [self.slides_ids, self.slides_labels, self.slides_summaries,\n",
        "                                           self.slides_images_filepaths]))\n",
        "\n",
        "        self.retrieve_tiles_ids_with_images = False  # True will return bag of images and associated tiles ids\n",
        "\n",
        "    def _define_data_transforms(self, mean, std):\n",
        "        if self.with_data_augmentation:\n",
        "            return transforms.Compose([\n",
        "                transforms.RandomHorizontalFlip(),\n",
        "                transforms.RandomVerticalFlip(),\n",
        "                transforms.ColorJitter(0.1, 0.1, 0.1, 0.01),\n",
        "                transforms.ToTensor(),\n",
        "                transforms.Normalize(mean, std),\n",
        "            ])\n",
        "        return transforms.Compose([transforms.ToTensor(), transforms.Normalize(mean, std)])\n",
        "\n",
        "    def load_data(self):\n",
        "        slides_ids, slides_labels, slides_summaries, slides_cases, slides_images_filepaths = [], [], [], [], []\n",
        "\n",
        "        # Name of expected non-image files for all slides folders\n",
        "        label_filename = 'label.txt'\n",
        "        case_id_filename = 'case_id.txt'\n",
        "        summary_filename = 'summary.txt'\n",
        "\n",
        "        # Seek all slides folders, and load static data including list of tiles filepaths and bag label\n",
        "        for i, slide_folder in enumerate(tqdm(self.slides_folders)):\n",
        "            if self.max_dataset_size is not None and i + 1 > self.max_dataset_size:\n",
        "                break\n",
        "            # print(slide_folder)\n",
        "            # a = filter(lambda f: os.path.isfile(os.path.join(slide_folder, f)), os.listdir(slide_folder))\n",
        "            # print(a)\n",
        "            # b = list(a)\n",
        "            all_slide_files = list(filter(lambda f: os.path.isfile(os.path.join(slide_folder, f)),\n",
        "                                          os.listdir(slide_folder)))\n",
        "\n",
        "            # Seek and save label, case_id and summary files: expects 1 and only 1 for each\n",
        "            for data_filename in [label_filename, case_id_filename, summary_filename]:\n",
        "                assert sum([f == data_filename for f in all_slide_files]) == 1, \\\n",
        "                    'slide %s: found %d files for %s, expected 1' % (slide_folder,\n",
        "                                                                     sum([f == data_filename for f in\n",
        "                                                                          all_slide_files], ),\n",
        "                                                                     data_filename)\n",
        "\n",
        "            label_file = os.path.join(slide_folder, [f for f in all_slide_files if f == label_filename][0])\n",
        "            case_id_file = os.path.join(slide_folder, [f for f in all_slide_files if f == case_id_filename][0])\n",
        "            summary_file = os.path.join(slide_folder, [f for f in all_slide_files if f == summary_filename][0])\n",
        "            with open(label_file, 'r') as f:\n",
        "                slide_label = int(f.read())\n",
        "            with open(case_id_file, 'r') as f:\n",
        "                slide_case_id = f.read()\n",
        "            with open(summary_file, 'r') as f:\n",
        "                slide_original_tiles = f.read().splitlines()\n",
        "\n",
        "            # Seek all filtered images of slide (not-background images)\n",
        "            slide_images_filenames = list(filter(lambda f: f.endswith(('.jpeg', '.jpg', '.png')), all_slide_files))\n",
        "\n",
        "            if len(slide_images_filenames) == 0:\n",
        "                self.logger.warning('Discarding slide %s of class %d because there are no images' %\n",
        "                                    (slide_folder, slide_label))\n",
        "                continue\n",
        "\n",
        "            # Save data\n",
        "            slides_ids.append(os.path.basename(slide_folder))\n",
        "            slides_labels.append(slide_label)\n",
        "            slides_summaries.append(slide_original_tiles)\n",
        "            slides_cases.append(slide_case_id)\n",
        "            slides_images_filepaths.append(\n",
        "                list(map(lambda f: os.path.abspath(os.path.join(slide_folder, f)), slide_images_filenames)))\n",
        "\n",
        "        slides_ids = np.asarray(slides_ids)\n",
        "        slides_labels = np.asarray(slides_labels)\n",
        "        print(\"end\\n\")\n",
        "\n",
        "        return slides_ids, slides_labels, slides_summaries, slides_cases, slides_images_filepaths\n",
        "\n",
        "    # def show_bag(self, bag_idx, savefolder=None):\n",
        "    #     \"\"\" Plot/save tiles sampled from the slide of provided index \"\"\"\n",
        "    #     bag = self._get_slide_instances(bag_idx)\n",
        "    #     bag_label = self.slides_labels[bag_idx]\n",
        "    #     tr = transforms.ToTensor()\n",
        "    #     bag = [tr(b) for b in bag]\n",
        "    #     imgs = make_grid(bag)\n",
        "\n",
        "    #     npimgs = imgs.numpy()\n",
        "    #     plt.imshow(np.transpose(npimgs, (1, 2, 0)), interpolation='nearest')\n",
        "    #     plt.title('Bag label: %s | %d instances' % (bag_label, len(bag)))\n",
        "    #     if savefolder is not None:\n",
        "    #         plt.savefig(os.path.join(savefolder, 'show_' + str(bag_idx) + '.png'), dpi=1000)\n",
        "    #     else:\n",
        "    #         plt.show()\n",
        "\n",
        "    def _get_slide_instances(self, item):\n",
        "        \"\"\" Memory load all tiles or randomly sampled tiles from slide of specified index \"\"\"\n",
        "        slide_images_filepaths = self.slides_images_filepaths[item]\n",
        "\n",
        "        # Randomly sample the specified max number of tiles from the slide with replacement\n",
        "        if self.max_bag_size is not None:\n",
        "            slide_images_filepaths = random.choices(slide_images_filepaths, k=self.max_bag_size)\n",
        "\n",
        "        # Load images\n",
        "        bag_images = [pil_loader(slide_image_filepath) for slide_image_filepath in slide_images_filepaths]\n",
        "\n",
        "        if self.retrieve_tiles_ids_with_images:\n",
        "            # return bag of images as well as the associated ids of the tiles\n",
        "            return bag_images, list(map(os.path.basename, slide_images_filepaths)), self.slides_summaries[item]\n",
        "        return bag_images\n",
        "\n",
        "    def __getitem__(self, item):\n",
        "        if not self.retrieve_tiles_ids_with_images:\n",
        "            slide_instances = self._get_slide_instances(item)\n",
        "            slide_instances = torch.stack([self.transform(instance) for instance in slide_instances])\n",
        "            slide_label = self.slides_labels[item]\n",
        "            return slide_instances, slide_label\n",
        "\n",
        "        slide_instances, tiles_ids, slide_summary = self._get_slide_instances(item)\n",
        "        slide_instances = torch.stack([self.transform(instance) for instance in slide_instances])\n",
        "        slide_label = self.slides_labels[item]\n",
        "        return slide_instances, slide_label, tiles_ids, slide_summary\n",
        "\n",
        "    def __len__(self):\n",
        "        return len(self.slides_labels)"
      ],
      "execution_count": null,
      "outputs": []
    },
    {
      "cell_type": "code",
      "metadata": {
        "id": "B9s1rJdLj_FL"
      },
      "source": [
        "import random\n",
        "\n",
        "def split_svs_samples_casewise(svs_files, associated_cases_ids, val_size, test_size, seed=123):\n",
        "    assert len(svs_files) == len(associated_cases_ids), 'Expected same number of SVS files than associated case ID'\n",
        "    random.seed(seed)\n",
        "    train_size = 1. - val_size - test_size\n",
        "\n",
        "    unique_cases_ids = list(set(associated_cases_ids))\n",
        "    random.shuffle(unique_cases_ids)\n",
        "    total_unique_cases_ids = len(unique_cases_ids)\n",
        "\n",
        "    # Extract cases ids for training, validation and testing sets\n",
        "    train_cases_ids = unique_cases_ids[:int(train_size*total_unique_cases_ids)]\n",
        "    val_cases_ids = unique_cases_ids[int(train_size*total_unique_cases_ids):\n",
        "                                     int(train_size*total_unique_cases_ids)+int(val_size*total_unique_cases_ids)]\n",
        "    test_cases_ids = unique_cases_ids[int(train_size*total_unique_cases_ids)+int(val_size*total_unique_cases_ids):]\n",
        "    assert len(train_cases_ids) + len(val_cases_ids) + len(test_cases_ids) == total_unique_cases_ids\n",
        "\n",
        "    # Compute associated split set for SVS files\n",
        "    train_svs_files, val_svs_files, test_svs_files = [], [], []\n",
        "    for svs_file, associated_case_id in zip(svs_files, associated_cases_ids):\n",
        "        if associated_case_id in train_cases_ids:\n",
        "            train_svs_files.append(svs_file)\n",
        "        elif associated_case_id in val_cases_ids:\n",
        "            val_svs_files.append(svs_file)\n",
        "        else:\n",
        "            test_svs_files.append(svs_file)\n",
        "\n",
        "    return train_svs_files, val_svs_files, test_svs_files\n",
        "\n",
        "def build_datasets(source_slides_folders, model_input_width, hyper_parameters, logger):\n",
        "    normalization_channels_mean = (0.6387467, 0.51136744, 0.6061169)\n",
        "    normalization_channels_std = (0.31200314, 0.3260718, 0.30386254)\n",
        "\n",
        "    # First load all data into a single Dataset\n",
        "    whole_dataset = Dataset(slides_folders=source_slides_folders, model_input_size=model_input_width,\n",
        "                            is_training=False, max_bag_size=hyper_parameters['max_bag_size'],\n",
        "                            logger=logger, max_dataset_size=hyper_parameters['dataset_max_size'],\n",
        "                            with_data_augmentation=hyper_parameters['with_data_augmentation'],\n",
        "                            seed=hyper_parameters['seed'],\n",
        "                            normalization_mean=normalization_channels_mean,\n",
        "                            normalization_std=normalization_channels_std)\n",
        "    whole_cases_ids = whole_dataset.slides_cases\n",
        "    whole_indexes = list(range(len(whole_dataset)))\n",
        "\n",
        "    val_size = hyper_parameters['val_size']\n",
        "    test_size = hyper_parameters['test_size']\n",
        "    train_idx, val_idx, test_idx = split_svs_samples_casewise(whole_indexes, whole_cases_ids,\n",
        "                                                              val_size=val_size, test_size=test_size,\n",
        "                                                              seed=hyper_parameters['seed'])\n",
        "\n",
        "    val_dataset = torch.utils.data.Subset(whole_dataset, val_idx)\n",
        "    test_dataset = torch.utils.data.Subset(whole_dataset, test_idx)\n",
        "    train_dataset = torch.utils.data.Subset(whole_dataset, train_idx)\n",
        "    train_dataset.dataset.is_training = True\n",
        "    train_dataset.dataset.transform = train_dataset.dataset._define_data_transforms(normalization_channels_mean,\n",
        "                                                                                    normalization_channels_std)\n",
        "\n",
        "    return train_dataset, val_dataset, test_dataset, whole_cases_ids, whole_indexes, whole_dataset"
      ],
      "execution_count": null,
      "outputs": []
    },
    {
      "cell_type": "markdown",
      "metadata": {
        "id": "9mWDw88okHRX"
      },
      "source": [
        "# 1.Review on Resnet"
      ]
    },
    {
      "cell_type": "code",
      "metadata": {
        "id": "KeTpvcrfkAc8",
        "colab": {
          "base_uri": "https://localhost:8080/",
          "height": 83,
          "referenced_widgets": [
            "12cd0579fcd84513b7728b086496f2c0",
            "4967e644493a4abca7d550a22993246f",
            "1e6f51d2a22e40ecbcc7ec06c565153f",
            "169942ee7b1940daa6ab1e8dc84e6efb",
            "8da2789ed12047ef962db196f5d84b95",
            "2e74810b9b2641c2a69bbcf7117175ff",
            "b9feab1c533b497094c288847a7d7f1f",
            "5f86006856b9408596ae955a4fa6fdc3"
          ]
        },
        "outputId": "3f17f301-48eb-4efc-eb0b-b7752c2f0d24"
      },
      "source": [
        "rn18 = models.resnet18(pretrained=True)"
      ],
      "execution_count": null,
      "outputs": [
        {
          "output_type": "stream",
          "text": [
            "Downloading: \"https://download.pytorch.org/models/resnet18-5c106cde.pth\" to /root/.cache/torch/hub/checkpoints/resnet18-5c106cde.pth\n"
          ],
          "name": "stderr"
        },
        {
          "output_type": "display_data",
          "data": {
            "application/vnd.jupyter.widget-view+json": {
              "model_id": "12cd0579fcd84513b7728b086496f2c0",
              "version_minor": 0,
              "version_major": 2
            },
            "text/plain": [
              "HBox(children=(FloatProgress(value=0.0, max=46827520.0), HTML(value='')))"
            ]
          },
          "metadata": {
            "tags": []
          }
        },
        {
          "output_type": "stream",
          "text": [
            "\n"
          ],
          "name": "stdout"
        }
      ]
    },
    {
      "cell_type": "code",
      "metadata": {
        "id": "Rp72FsgEkJ5D",
        "colab": {
          "base_uri": "https://localhost:8080/"
        },
        "outputId": "7f75ac2e-46eb-42db-dc14-4b23d91455de"
      },
      "source": [
        "children_counter = 0\n",
        "for n,c in rn18.named_children():\n",
        "    print(\"Children Counter: \",children_counter,\" Layer Name: \",n,)\n",
        "    children_counter+=1"
      ],
      "execution_count": null,
      "outputs": [
        {
          "output_type": "stream",
          "text": [
            "Children Counter:  0  Layer Name:  conv1\n",
            "Children Counter:  1  Layer Name:  bn1\n",
            "Children Counter:  2  Layer Name:  relu\n",
            "Children Counter:  3  Layer Name:  maxpool\n",
            "Children Counter:  4  Layer Name:  layer1\n",
            "Children Counter:  5  Layer Name:  layer2\n",
            "Children Counter:  6  Layer Name:  layer3\n",
            "Children Counter:  7  Layer Name:  layer4\n",
            "Children Counter:  8  Layer Name:  avgpool\n",
            "Children Counter:  9  Layer Name:  fc\n"
          ],
          "name": "stdout"
        }
      ]
    },
    {
      "cell_type": "code",
      "metadata": {
        "id": "jI1uOz-BkL1Q",
        "colab": {
          "base_uri": "https://localhost:8080/"
        },
        "outputId": "164696b0-b69a-4711-adfa-fb59996ba998"
      },
      "source": [
        "rn18._modules"
      ],
      "execution_count": null,
      "outputs": [
        {
          "output_type": "execute_result",
          "data": {
            "text/plain": [
              "OrderedDict([('conv1',\n",
              "              Conv2d(3, 64, kernel_size=(7, 7), stride=(2, 2), padding=(3, 3), bias=False)),\n",
              "             ('bn1',\n",
              "              BatchNorm2d(64, eps=1e-05, momentum=0.1, affine=True, track_running_stats=True)),\n",
              "             ('relu', ReLU(inplace=True)),\n",
              "             ('maxpool',\n",
              "              MaxPool2d(kernel_size=3, stride=2, padding=1, dilation=1, ceil_mode=False)),\n",
              "             ('layer1', Sequential(\n",
              "                (0): BasicBlock(\n",
              "                  (conv1): Conv2d(64, 64, kernel_size=(3, 3), stride=(1, 1), padding=(1, 1), bias=False)\n",
              "                  (bn1): BatchNorm2d(64, eps=1e-05, momentum=0.1, affine=True, track_running_stats=True)\n",
              "                  (relu): ReLU(inplace=True)\n",
              "                  (conv2): Conv2d(64, 64, kernel_size=(3, 3), stride=(1, 1), padding=(1, 1), bias=False)\n",
              "                  (bn2): BatchNorm2d(64, eps=1e-05, momentum=0.1, affine=True, track_running_stats=True)\n",
              "                )\n",
              "                (1): BasicBlock(\n",
              "                  (conv1): Conv2d(64, 64, kernel_size=(3, 3), stride=(1, 1), padding=(1, 1), bias=False)\n",
              "                  (bn1): BatchNorm2d(64, eps=1e-05, momentum=0.1, affine=True, track_running_stats=True)\n",
              "                  (relu): ReLU(inplace=True)\n",
              "                  (conv2): Conv2d(64, 64, kernel_size=(3, 3), stride=(1, 1), padding=(1, 1), bias=False)\n",
              "                  (bn2): BatchNorm2d(64, eps=1e-05, momentum=0.1, affine=True, track_running_stats=True)\n",
              "                )\n",
              "              )),\n",
              "             ('layer2', Sequential(\n",
              "                (0): BasicBlock(\n",
              "                  (conv1): Conv2d(64, 128, kernel_size=(3, 3), stride=(2, 2), padding=(1, 1), bias=False)\n",
              "                  (bn1): BatchNorm2d(128, eps=1e-05, momentum=0.1, affine=True, track_running_stats=True)\n",
              "                  (relu): ReLU(inplace=True)\n",
              "                  (conv2): Conv2d(128, 128, kernel_size=(3, 3), stride=(1, 1), padding=(1, 1), bias=False)\n",
              "                  (bn2): BatchNorm2d(128, eps=1e-05, momentum=0.1, affine=True, track_running_stats=True)\n",
              "                  (downsample): Sequential(\n",
              "                    (0): Conv2d(64, 128, kernel_size=(1, 1), stride=(2, 2), bias=False)\n",
              "                    (1): BatchNorm2d(128, eps=1e-05, momentum=0.1, affine=True, track_running_stats=True)\n",
              "                  )\n",
              "                )\n",
              "                (1): BasicBlock(\n",
              "                  (conv1): Conv2d(128, 128, kernel_size=(3, 3), stride=(1, 1), padding=(1, 1), bias=False)\n",
              "                  (bn1): BatchNorm2d(128, eps=1e-05, momentum=0.1, affine=True, track_running_stats=True)\n",
              "                  (relu): ReLU(inplace=True)\n",
              "                  (conv2): Conv2d(128, 128, kernel_size=(3, 3), stride=(1, 1), padding=(1, 1), bias=False)\n",
              "                  (bn2): BatchNorm2d(128, eps=1e-05, momentum=0.1, affine=True, track_running_stats=True)\n",
              "                )\n",
              "              )),\n",
              "             ('layer3', Sequential(\n",
              "                (0): BasicBlock(\n",
              "                  (conv1): Conv2d(128, 256, kernel_size=(3, 3), stride=(2, 2), padding=(1, 1), bias=False)\n",
              "                  (bn1): BatchNorm2d(256, eps=1e-05, momentum=0.1, affine=True, track_running_stats=True)\n",
              "                  (relu): ReLU(inplace=True)\n",
              "                  (conv2): Conv2d(256, 256, kernel_size=(3, 3), stride=(1, 1), padding=(1, 1), bias=False)\n",
              "                  (bn2): BatchNorm2d(256, eps=1e-05, momentum=0.1, affine=True, track_running_stats=True)\n",
              "                  (downsample): Sequential(\n",
              "                    (0): Conv2d(128, 256, kernel_size=(1, 1), stride=(2, 2), bias=False)\n",
              "                    (1): BatchNorm2d(256, eps=1e-05, momentum=0.1, affine=True, track_running_stats=True)\n",
              "                  )\n",
              "                )\n",
              "                (1): BasicBlock(\n",
              "                  (conv1): Conv2d(256, 256, kernel_size=(3, 3), stride=(1, 1), padding=(1, 1), bias=False)\n",
              "                  (bn1): BatchNorm2d(256, eps=1e-05, momentum=0.1, affine=True, track_running_stats=True)\n",
              "                  (relu): ReLU(inplace=True)\n",
              "                  (conv2): Conv2d(256, 256, kernel_size=(3, 3), stride=(1, 1), padding=(1, 1), bias=False)\n",
              "                  (bn2): BatchNorm2d(256, eps=1e-05, momentum=0.1, affine=True, track_running_stats=True)\n",
              "                )\n",
              "              )),\n",
              "             ('layer4', Sequential(\n",
              "                (0): BasicBlock(\n",
              "                  (conv1): Conv2d(256, 512, kernel_size=(3, 3), stride=(2, 2), padding=(1, 1), bias=False)\n",
              "                  (bn1): BatchNorm2d(512, eps=1e-05, momentum=0.1, affine=True, track_running_stats=True)\n",
              "                  (relu): ReLU(inplace=True)\n",
              "                  (conv2): Conv2d(512, 512, kernel_size=(3, 3), stride=(1, 1), padding=(1, 1), bias=False)\n",
              "                  (bn2): BatchNorm2d(512, eps=1e-05, momentum=0.1, affine=True, track_running_stats=True)\n",
              "                  (downsample): Sequential(\n",
              "                    (0): Conv2d(256, 512, kernel_size=(1, 1), stride=(2, 2), bias=False)\n",
              "                    (1): BatchNorm2d(512, eps=1e-05, momentum=0.1, affine=True, track_running_stats=True)\n",
              "                  )\n",
              "                )\n",
              "                (1): BasicBlock(\n",
              "                  (conv1): Conv2d(512, 512, kernel_size=(3, 3), stride=(1, 1), padding=(1, 1), bias=False)\n",
              "                  (bn1): BatchNorm2d(512, eps=1e-05, momentum=0.1, affine=True, track_running_stats=True)\n",
              "                  (relu): ReLU(inplace=True)\n",
              "                  (conv2): Conv2d(512, 512, kernel_size=(3, 3), stride=(1, 1), padding=(1, 1), bias=False)\n",
              "                  (bn2): BatchNorm2d(512, eps=1e-05, momentum=0.1, affine=True, track_running_stats=True)\n",
              "                )\n",
              "              )),\n",
              "             ('avgpool', AdaptiveAvgPool2d(output_size=(1, 1))),\n",
              "             ('fc', Linear(in_features=512, out_features=1000, bias=True))])"
            ]
          },
          "metadata": {
            "tags": []
          },
          "execution_count": 14
        }
      ]
    },
    {
      "cell_type": "code",
      "metadata": {
        "id": "f_OEiqaQkNQ7"
      },
      "source": [
        "class new_model(nn.Module):\n",
        "    def __init__(self,output_layer = None):\n",
        "        super().__init__()\n",
        "        self.pretrained = models.resnet18(pretrained=True)\n",
        "        self.output_layer = output_layer\n",
        "        self.layers = list(self.pretrained._modules.keys())\n",
        "        self.layer_count = 0\n",
        "        for l in self.layers:\n",
        "            if l != self.output_layer:\n",
        "                self.layer_count += 1\n",
        "            else:\n",
        "                break\n",
        "        for i in range(1,len(self.layers)-self.layer_count):\n",
        "            self.dummy_var = self.pretrained._modules.pop(self.layers[-i])\n",
        "        \n",
        "        self.net = nn.Sequential(self.pretrained._modules)\n",
        "        self.pretrained = None\n",
        "\n",
        "    def forward(self,x):\n",
        "        x = self.net(x)\n",
        "        return x"
      ],
      "execution_count": null,
      "outputs": []
    },
    {
      "cell_type": "code",
      "metadata": {
        "id": "NmmHys8-kPQB"
      },
      "source": [
        "model = new_model(output_layer = 'layer4')\n",
        "cuda = torch.device('cuda:0')\n",
        "model = model.to(cuda)"
      ],
      "execution_count": null,
      "outputs": []
    },
    {
      "cell_type": "code",
      "metadata": {
        "id": "mMjDTLBdkR3W",
        "colab": {
          "base_uri": "https://localhost:8080/"
        },
        "outputId": "8aa29106-1834-46a1-a4ed-4fdb51a4f821"
      },
      "source": [
        "summary(model,input_size=(3, 224, 224))"
      ],
      "execution_count": null,
      "outputs": [
        {
          "output_type": "stream",
          "text": [
            "----------------------------------------------------------------\n",
            "        Layer (type)               Output Shape         Param #\n",
            "================================================================\n",
            "            Conv2d-1         [-1, 64, 112, 112]           9,408\n",
            "       BatchNorm2d-2         [-1, 64, 112, 112]             128\n",
            "              ReLU-3         [-1, 64, 112, 112]               0\n",
            "         MaxPool2d-4           [-1, 64, 56, 56]               0\n",
            "            Conv2d-5           [-1, 64, 56, 56]          36,864\n",
            "       BatchNorm2d-6           [-1, 64, 56, 56]             128\n",
            "              ReLU-7           [-1, 64, 56, 56]               0\n",
            "            Conv2d-8           [-1, 64, 56, 56]          36,864\n",
            "       BatchNorm2d-9           [-1, 64, 56, 56]             128\n",
            "             ReLU-10           [-1, 64, 56, 56]               0\n",
            "       BasicBlock-11           [-1, 64, 56, 56]               0\n",
            "           Conv2d-12           [-1, 64, 56, 56]          36,864\n",
            "      BatchNorm2d-13           [-1, 64, 56, 56]             128\n",
            "             ReLU-14           [-1, 64, 56, 56]               0\n",
            "           Conv2d-15           [-1, 64, 56, 56]          36,864\n",
            "      BatchNorm2d-16           [-1, 64, 56, 56]             128\n",
            "             ReLU-17           [-1, 64, 56, 56]               0\n",
            "       BasicBlock-18           [-1, 64, 56, 56]               0\n",
            "           Conv2d-19          [-1, 128, 28, 28]          73,728\n",
            "      BatchNorm2d-20          [-1, 128, 28, 28]             256\n",
            "             ReLU-21          [-1, 128, 28, 28]               0\n",
            "           Conv2d-22          [-1, 128, 28, 28]         147,456\n",
            "      BatchNorm2d-23          [-1, 128, 28, 28]             256\n",
            "           Conv2d-24          [-1, 128, 28, 28]           8,192\n",
            "      BatchNorm2d-25          [-1, 128, 28, 28]             256\n",
            "             ReLU-26          [-1, 128, 28, 28]               0\n",
            "       BasicBlock-27          [-1, 128, 28, 28]               0\n",
            "           Conv2d-28          [-1, 128, 28, 28]         147,456\n",
            "      BatchNorm2d-29          [-1, 128, 28, 28]             256\n",
            "             ReLU-30          [-1, 128, 28, 28]               0\n",
            "           Conv2d-31          [-1, 128, 28, 28]         147,456\n",
            "      BatchNorm2d-32          [-1, 128, 28, 28]             256\n",
            "             ReLU-33          [-1, 128, 28, 28]               0\n",
            "       BasicBlock-34          [-1, 128, 28, 28]               0\n",
            "           Conv2d-35          [-1, 256, 14, 14]         294,912\n",
            "      BatchNorm2d-36          [-1, 256, 14, 14]             512\n",
            "             ReLU-37          [-1, 256, 14, 14]               0\n",
            "           Conv2d-38          [-1, 256, 14, 14]         589,824\n",
            "      BatchNorm2d-39          [-1, 256, 14, 14]             512\n",
            "           Conv2d-40          [-1, 256, 14, 14]          32,768\n",
            "      BatchNorm2d-41          [-1, 256, 14, 14]             512\n",
            "             ReLU-42          [-1, 256, 14, 14]               0\n",
            "       BasicBlock-43          [-1, 256, 14, 14]               0\n",
            "           Conv2d-44          [-1, 256, 14, 14]         589,824\n",
            "      BatchNorm2d-45          [-1, 256, 14, 14]             512\n",
            "             ReLU-46          [-1, 256, 14, 14]               0\n",
            "           Conv2d-47          [-1, 256, 14, 14]         589,824\n",
            "      BatchNorm2d-48          [-1, 256, 14, 14]             512\n",
            "             ReLU-49          [-1, 256, 14, 14]               0\n",
            "       BasicBlock-50          [-1, 256, 14, 14]               0\n",
            "           Conv2d-51            [-1, 512, 7, 7]       1,179,648\n",
            "      BatchNorm2d-52            [-1, 512, 7, 7]           1,024\n",
            "             ReLU-53            [-1, 512, 7, 7]               0\n",
            "           Conv2d-54            [-1, 512, 7, 7]       2,359,296\n",
            "      BatchNorm2d-55            [-1, 512, 7, 7]           1,024\n",
            "           Conv2d-56            [-1, 512, 7, 7]         131,072\n",
            "      BatchNorm2d-57            [-1, 512, 7, 7]           1,024\n",
            "             ReLU-58            [-1, 512, 7, 7]               0\n",
            "       BasicBlock-59            [-1, 512, 7, 7]               0\n",
            "           Conv2d-60            [-1, 512, 7, 7]       2,359,296\n",
            "      BatchNorm2d-61            [-1, 512, 7, 7]           1,024\n",
            "             ReLU-62            [-1, 512, 7, 7]               0\n",
            "           Conv2d-63            [-1, 512, 7, 7]       2,359,296\n",
            "      BatchNorm2d-64            [-1, 512, 7, 7]           1,024\n",
            "             ReLU-65            [-1, 512, 7, 7]               0\n",
            "       BasicBlock-66            [-1, 512, 7, 7]               0\n",
            "================================================================\n",
            "Total params: 11,176,512\n",
            "Trainable params: 11,176,512\n",
            "Non-trainable params: 0\n",
            "----------------------------------------------------------------\n",
            "Input size (MB): 0.57\n",
            "Forward/backward pass size (MB): 62.78\n",
            "Params size (MB): 42.64\n",
            "Estimated Total Size (MB): 105.99\n",
            "----------------------------------------------------------------\n"
          ],
          "name": "stdout"
        }
      ]
    },
    {
      "cell_type": "code",
      "metadata": {
        "id": "uLX08mFnkTgE",
        "colab": {
          "base_uri": "https://localhost:8080/"
        },
        "outputId": "6c2a2ee9-46b0-48da-b89f-6405b9053765"
      },
      "source": [
        "print(model)"
      ],
      "execution_count": null,
      "outputs": [
        {
          "output_type": "stream",
          "text": [
            "new_model(\n",
            "  (pretrained): None\n",
            "  (dummy_var): AdaptiveAvgPool2d(output_size=(1, 1))\n",
            "  (net): Sequential(\n",
            "    (conv1): Conv2d(3, 64, kernel_size=(7, 7), stride=(2, 2), padding=(3, 3), bias=False)\n",
            "    (bn1): BatchNorm2d(64, eps=1e-05, momentum=0.1, affine=True, track_running_stats=True)\n",
            "    (relu): ReLU(inplace=True)\n",
            "    (maxpool): MaxPool2d(kernel_size=3, stride=2, padding=1, dilation=1, ceil_mode=False)\n",
            "    (layer1): Sequential(\n",
            "      (0): BasicBlock(\n",
            "        (conv1): Conv2d(64, 64, kernel_size=(3, 3), stride=(1, 1), padding=(1, 1), bias=False)\n",
            "        (bn1): BatchNorm2d(64, eps=1e-05, momentum=0.1, affine=True, track_running_stats=True)\n",
            "        (relu): ReLU(inplace=True)\n",
            "        (conv2): Conv2d(64, 64, kernel_size=(3, 3), stride=(1, 1), padding=(1, 1), bias=False)\n",
            "        (bn2): BatchNorm2d(64, eps=1e-05, momentum=0.1, affine=True, track_running_stats=True)\n",
            "      )\n",
            "      (1): BasicBlock(\n",
            "        (conv1): Conv2d(64, 64, kernel_size=(3, 3), stride=(1, 1), padding=(1, 1), bias=False)\n",
            "        (bn1): BatchNorm2d(64, eps=1e-05, momentum=0.1, affine=True, track_running_stats=True)\n",
            "        (relu): ReLU(inplace=True)\n",
            "        (conv2): Conv2d(64, 64, kernel_size=(3, 3), stride=(1, 1), padding=(1, 1), bias=False)\n",
            "        (bn2): BatchNorm2d(64, eps=1e-05, momentum=0.1, affine=True, track_running_stats=True)\n",
            "      )\n",
            "    )\n",
            "    (layer2): Sequential(\n",
            "      (0): BasicBlock(\n",
            "        (conv1): Conv2d(64, 128, kernel_size=(3, 3), stride=(2, 2), padding=(1, 1), bias=False)\n",
            "        (bn1): BatchNorm2d(128, eps=1e-05, momentum=0.1, affine=True, track_running_stats=True)\n",
            "        (relu): ReLU(inplace=True)\n",
            "        (conv2): Conv2d(128, 128, kernel_size=(3, 3), stride=(1, 1), padding=(1, 1), bias=False)\n",
            "        (bn2): BatchNorm2d(128, eps=1e-05, momentum=0.1, affine=True, track_running_stats=True)\n",
            "        (downsample): Sequential(\n",
            "          (0): Conv2d(64, 128, kernel_size=(1, 1), stride=(2, 2), bias=False)\n",
            "          (1): BatchNorm2d(128, eps=1e-05, momentum=0.1, affine=True, track_running_stats=True)\n",
            "        )\n",
            "      )\n",
            "      (1): BasicBlock(\n",
            "        (conv1): Conv2d(128, 128, kernel_size=(3, 3), stride=(1, 1), padding=(1, 1), bias=False)\n",
            "        (bn1): BatchNorm2d(128, eps=1e-05, momentum=0.1, affine=True, track_running_stats=True)\n",
            "        (relu): ReLU(inplace=True)\n",
            "        (conv2): Conv2d(128, 128, kernel_size=(3, 3), stride=(1, 1), padding=(1, 1), bias=False)\n",
            "        (bn2): BatchNorm2d(128, eps=1e-05, momentum=0.1, affine=True, track_running_stats=True)\n",
            "      )\n",
            "    )\n",
            "    (layer3): Sequential(\n",
            "      (0): BasicBlock(\n",
            "        (conv1): Conv2d(128, 256, kernel_size=(3, 3), stride=(2, 2), padding=(1, 1), bias=False)\n",
            "        (bn1): BatchNorm2d(256, eps=1e-05, momentum=0.1, affine=True, track_running_stats=True)\n",
            "        (relu): ReLU(inplace=True)\n",
            "        (conv2): Conv2d(256, 256, kernel_size=(3, 3), stride=(1, 1), padding=(1, 1), bias=False)\n",
            "        (bn2): BatchNorm2d(256, eps=1e-05, momentum=0.1, affine=True, track_running_stats=True)\n",
            "        (downsample): Sequential(\n",
            "          (0): Conv2d(128, 256, kernel_size=(1, 1), stride=(2, 2), bias=False)\n",
            "          (1): BatchNorm2d(256, eps=1e-05, momentum=0.1, affine=True, track_running_stats=True)\n",
            "        )\n",
            "      )\n",
            "      (1): BasicBlock(\n",
            "        (conv1): Conv2d(256, 256, kernel_size=(3, 3), stride=(1, 1), padding=(1, 1), bias=False)\n",
            "        (bn1): BatchNorm2d(256, eps=1e-05, momentum=0.1, affine=True, track_running_stats=True)\n",
            "        (relu): ReLU(inplace=True)\n",
            "        (conv2): Conv2d(256, 256, kernel_size=(3, 3), stride=(1, 1), padding=(1, 1), bias=False)\n",
            "        (bn2): BatchNorm2d(256, eps=1e-05, momentum=0.1, affine=True, track_running_stats=True)\n",
            "      )\n",
            "    )\n",
            "    (layer4): Sequential(\n",
            "      (0): BasicBlock(\n",
            "        (conv1): Conv2d(256, 512, kernel_size=(3, 3), stride=(2, 2), padding=(1, 1), bias=False)\n",
            "        (bn1): BatchNorm2d(512, eps=1e-05, momentum=0.1, affine=True, track_running_stats=True)\n",
            "        (relu): ReLU(inplace=True)\n",
            "        (conv2): Conv2d(512, 512, kernel_size=(3, 3), stride=(1, 1), padding=(1, 1), bias=False)\n",
            "        (bn2): BatchNorm2d(512, eps=1e-05, momentum=0.1, affine=True, track_running_stats=True)\n",
            "        (downsample): Sequential(\n",
            "          (0): Conv2d(256, 512, kernel_size=(1, 1), stride=(2, 2), bias=False)\n",
            "          (1): BatchNorm2d(512, eps=1e-05, momentum=0.1, affine=True, track_running_stats=True)\n",
            "        )\n",
            "      )\n",
            "      (1): BasicBlock(\n",
            "        (conv1): Conv2d(512, 512, kernel_size=(3, 3), stride=(1, 1), padding=(1, 1), bias=False)\n",
            "        (bn1): BatchNorm2d(512, eps=1e-05, momentum=0.1, affine=True, track_running_stats=True)\n",
            "        (relu): ReLU(inplace=True)\n",
            "        (conv2): Conv2d(512, 512, kernel_size=(3, 3), stride=(1, 1), padding=(1, 1), bias=False)\n",
            "        (bn2): BatchNorm2d(512, eps=1e-05, momentum=0.1, affine=True, track_running_stats=True)\n",
            "      )\n",
            "    )\n",
            "  )\n",
            ")\n"
          ],
          "name": "stdout"
        }
      ]
    },
    {
      "cell_type": "code",
      "metadata": {
        "id": "_iUu2-_jkXpr"
      },
      "source": [
        ""
      ],
      "execution_count": null,
      "outputs": []
    },
    {
      "cell_type": "markdown",
      "metadata": {
        "id": "Nto6GFcLmjT5"
      },
      "source": [
        "# 2.Max-MIL (Resnet)"
      ]
    },
    {
      "cell_type": "markdown",
      "metadata": {
        "id": "Tl0f8eWumq_j"
      },
      "source": [
        "## Dataset split"
      ]
    },
    {
      "cell_type": "code",
      "metadata": {
        "id": "ntb11xgRmf4x"
      },
      "source": [
        "hyper_parameters = {\n",
        "    # Training Control Parameters\n",
        "    \n",
        "    # Dataset Parameters\n",
        "    'max_bag_size': 200,\n",
        "    'dataset_max_size': None,\n",
        "    'with_data_augmentation': False,\n",
        "    # 'with_tensorboard': not args.no_tensorboard,\n",
        "    'seed': 123,\n",
        "    'val_size': 0.15,\n",
        "    'test_size': 0,\n",
        "    # 'val_size': 0.02,\n",
        "    # 'test_size': 0.95,\n",
        "}\n",
        "\n",
        "logger = None\n",
        "input_width = 224\n",
        "train_dataset, val_dataset, test_dataset, whole_cases_ids, whole_indexes, whole_dataset = build_datasets(source_slides_folders=slides_folders,\n",
        "                                                              model_input_width=input_width,\n",
        "                                                              hyper_parameters=hyper_parameters,\n",
        "                                                              logger=logger)\n",
        "N_PROCESSES = 5\n",
        "def to_dataloader(dataset, for_training):\n",
        "    assert isinstance(dataset, Dataset) or isinstance(dataset, torch.utils.data.Subset)\n",
        "    return torch.utils.data.DataLoader(dataset, batch_size=1, shuffle=for_training, num_workers=N_PROCESSES)\n",
        "\n",
        "train_dataloader = to_dataloader(train_dataset, True)\n",
        "val_dataloader = to_dataloader(val_dataset, False) if len(val_dataset) else None\n",
        "test_dataloader = to_dataloader(test_dataset, False) if len(test_dataset) else None"
      ],
      "execution_count": null,
      "outputs": []
    },
    {
      "cell_type": "code",
      "metadata": {
        "id": "tIuKYYecmubX"
      },
      "source": [
        "train_carcinoma = 0\n",
        "train_non_carcinoma = 0\n",
        "try:\n",
        "  for batch_idx, (data, bag_label) in enumerate(train_dataloader):\n",
        "    if bag_label == torch.Tensor([0]):\n",
        "      train_carcinoma += 1\n",
        "    else:\n",
        "      train_non_carcinoma += 1\n",
        "  print(\"There are %d carcinoma and %d non-carcinoma samples in the training set\" %(train_carcinoma, train_non_carcinoma))\n",
        "except TypeError:\n",
        "  print(\"Nan\")\n",
        "\n",
        "val_carcinoma = 0\n",
        "val_non_carcinoma = 0\n",
        "try:\n",
        "  for batch_idx, (data, bag_label) in enumerate(val_dataloader):\n",
        "    if bag_label == torch.Tensor([0]):\n",
        "      val_carcinoma += 1\n",
        "    else:\n",
        "      val_non_carcinoma += 1\n",
        "  print(\"There are %d carcinoma and %d non-carcinoma samples in the validation set\" %(val_carcinoma, val_non_carcinoma))\n",
        "except TypeError:\n",
        "  print(\"Nan\")\n",
        "\n",
        "test_carcinoma = 0\n",
        "test_non_carcinoma = 0\n",
        "try:\n",
        "  for batch_idx, (data, bag_label) in enumerate(test_dataloader):\n",
        "    if bag_label == torch.Tensor([0]):\n",
        "      test_carcinoma += 1\n",
        "    else:\n",
        "      test_non_carcinoma += 1\n",
        "  print(\"There are %d carcinoma and %d non-carcinoma samples in the test set\" %(test_carcinoma, test_non_carcinoma))\n",
        "except TypeError:\n",
        "  print(\"Nan\")"
      ],
      "execution_count": null,
      "outputs": []
    },
    {
      "cell_type": "markdown",
      "metadata": {
        "id": "3vW6w8DNmzN9"
      },
      "source": [
        "## Model"
      ]
    },
    {
      "cell_type": "code",
      "metadata": {
        "id": "tFnkaV_Smwzf"
      },
      "source": [
        "class max_resnet(nn.Module):\n",
        "    def __init__(self,output_layer = None):\n",
        "        super().__init__()\n",
        "        self.pretrained = models.resnet18(pretrained=True)\n",
        "        self.output_layer = output_layer\n",
        "        self.layers = list(self.pretrained._modules.keys())\n",
        "        self.layer_count = 0\n",
        "        for l in self.layers:\n",
        "            if l != self.output_layer:\n",
        "                self.layer_count += 1\n",
        "            else:\n",
        "                break\n",
        "        for i in range(1,len(self.layers)-self.layer_count):\n",
        "            self.dummy_var = self.pretrained._modules.pop(self.layers[-i])\n",
        "        \n",
        "        self.net = nn.Sequential(self.pretrained._modules)\n",
        "        self.pretrained = None\n",
        "\n",
        "        self.L = 500\n",
        "\n",
        "# N, 512, 7, 7\n",
        "\n",
        "        self.feature_extractor = nn.Sequential(\n",
        "            nn.Linear(512 * 7 * 7, self.L),\n",
        "            nn.ReLU(),\n",
        "        )\n",
        "\n",
        "        self.classifier = nn.Sequential(\n",
        "            nn.Linear(self.L, 1),\n",
        "            nn.Sigmoid()\n",
        "        )\n",
        "\n",
        "\n",
        "    def forward(self,x):\n",
        "        x = x.squeeze(0)\n",
        "        x = self.net(x)\n",
        "        # print(\"x size 1\")\n",
        "        # print(x.size())\n",
        "        x = x.view(-1, 512 * 7 * 7)\n",
        "\n",
        "        H = self.feature_extractor(x)\n",
        "        \n",
        "        H, _ = torch.max(H, 0)\n",
        "        # print(H.size())\n",
        "        A = 0\n",
        "\n",
        "        Y_prob = self.classifier(H)\n",
        "        Y_hat = torch.ge(Y_prob, 0.5).float()\n",
        "\n",
        "        return Y_prob, Y_hat, A\n",
        "    \n",
        "    # AUXILIARY METHODS\n",
        "    def calculate_classification_error(self, X, Y):\n",
        "        Y = Y.float()\n",
        "        _, Y_hat, _ = self.forward(X)\n",
        "        error = 1. - Y_hat.eq(Y).cpu().float().mean().item()\n",
        "\n",
        "        return error, Y_hat\n",
        "\n",
        "    def calculate_objective(self, X, Y):\n",
        "        Y = Y.float()\n",
        "        Y_prob_roc, _, A = self.forward(X)\n",
        "        Y_prob = torch.clamp(Y_prob_roc, min=1e-5, max=1. - 1e-5)\n",
        "        neg_log_likelihood = -1. * (Y * torch.log(Y_prob) + (1. - Y) * torch.log(1. - Y_prob))  # negative log bernoulli\n",
        "\n",
        "        return neg_log_likelihood, A, Y_prob_roc.detach().cpu().float()\n",
        "    \n",
        "    # AUXILIARY METHODS\n",
        "    def calculate_classification_error_and_objective(self, X, Y):\n",
        "        Y = Y.float()\n",
        "        Y_prob_roc, Y_hat, A = self.forward(X)\n",
        "        error = 1. - Y_hat.eq(Y).cpu().float().mean().item()\n",
        "        Y_prob = torch.clamp(Y_prob_roc, min=1e-5, max=1. - 1e-5)\n",
        "        neg_log_likelihood = -1. * (Y * torch.log(Y_prob) + (1. - Y) * torch.log(1. - Y_prob))  # negative log bernoulli\n",
        "\n",
        "\n",
        "        return neg_log_likelihood, A, Y_prob_roc.detach().cpu().float(), error, Y_hat"
      ],
      "execution_count": null,
      "outputs": []
    },
    {
      "cell_type": "code",
      "metadata": {
        "id": "7upuYbDIm2aS"
      },
      "source": [
        "model = max_resnet(output_layer = 'layer4')\n",
        "cuda = torch.device('cuda:0')\n",
        "model = model.to(cuda)\n",
        "summary(model,input_size=(3, 224, 224))"
      ],
      "execution_count": null,
      "outputs": []
    },
    {
      "cell_type": "code",
      "metadata": {
        "id": "B-_lEG19m4U7"
      },
      "source": [
        "print(model)\n",
        "del model"
      ],
      "execution_count": null,
      "outputs": []
    },
    {
      "cell_type": "markdown",
      "metadata": {
        "id": "eLsXS1xdm64G"
      },
      "source": [
        "## Train and Test function"
      ]
    },
    {
      "cell_type": "code",
      "metadata": {
        "id": "PYy34MZUm89Z"
      },
      "source": [
        "def train(model, optimizer, train_loader, val_loader, writer, num_epochs=25):\n",
        "    since = time.time()\n",
        "\n",
        "    best_model_wts = copy.deepcopy(model.state_dict())\n",
        "    best_acc = 0.0\n",
        "    train_size = train_loader.dataset.__len__()\n",
        "    val_size = val_loader.dataset.__len__()\n",
        "    print(f\"the number of training sample is {train_size}, the number of valisation sample is {val_size}\")\n",
        "    for epoch in range(num_epochs):\n",
        "        print('Epoch {}/{}'.format(epoch, num_epochs))\n",
        "        print('-' * 10)\n",
        "\n",
        "        expect_fpr = np.zeros((num_epochs, 1))\n",
        "        expect_tpr = np.zeros((num_epochs, 1))\n",
        "        roc_fpr = np.zeros((3, num_epochs))\n",
        "        roc_tpr = np.zeros((3, num_epochs))\n",
        "\n",
        "        # Each epoch has a training and validation phase\n",
        "        for phase in ['train', 'val']:\n",
        "            train_loss = 0.\n",
        "            train_error = 0.\n",
        "            if phase == 'train':\n",
        "                model.train()  # Set model to training mode\n",
        "                dataloader = train_loader\n",
        "            else:\n",
        "                model.eval()   # Set model to evaluate mode\n",
        "                dataloader = val_loader\n",
        "\n",
        "            # running_loss = 0.0\n",
        "            # running_corrects = 0\n",
        "            # dataset_size_count = 0\n",
        "\n",
        "            true_positve = 0.0\n",
        "            false_positive = 0.0\n",
        "            true_negative = 0.0\n",
        "            false_negative = 0.0\n",
        "            y_true = []\n",
        "            y_predict = []\n",
        "\n",
        "            # Iterate over data.\n",
        "            for batch_idx, (data, bag_label) in enumerate(dataloader):\n",
        "            # for inputs, labels in dataloader:\n",
        "                print(phase + \" start\")\n",
        "                # dataset_size_count += data.shape[0]\n",
        "                # # zero the parameter gradients\n",
        "                optimizer.zero_grad()\n",
        "\n",
        "                data, bag_label = data.cuda(), bag_label.cuda()\n",
        "                # data, bag_label = data.to(dev), bag_label.to(dev)\n",
        "                # forward\n",
        "                # track history if only in train\n",
        "                with torch.set_grad_enabled(phase == 'train'):\n",
        "\n",
        "                    # calculate loss and metrics\n",
        "                    # loss, _, Y_prob_roc = model.calculate_objective(data, bag_label)\n",
        "                    # train_loss += loss.data[0].cpu().float()\n",
        "\n",
        "                    # error, _ = model.calculate_classification_error(data, bag_label)\n",
        "                    # train_error += error\n",
        "\n",
        "                    loss, _, Y_prob_roc, error, _ = model.calculate_classification_error_and_objective(data, bag_label)\n",
        "                    train_loss += loss.data[0].cpu().float()\n",
        "                    train_error += error\n",
        "\n",
        "                    if bag_label == 1:\n",
        "                      y_true.append(1)\n",
        "                      if error == 0.0:\n",
        "                        true_positve += 1\n",
        "                      elif error == 1.0:\n",
        "                        false_positive += 1\n",
        "                    elif bag_label == 0:\n",
        "                      y_true.append(0)\n",
        "                      if error == 0.0:\n",
        "                        true_negative += 1\n",
        "                      elif error == 1.0:\n",
        "                        false_negative += 1\n",
        "                    # print(Y_prob_roc)\n",
        "                    y_predict.append(Y_prob_roc)\n",
        "                    \n",
        "                    # print(\"free memory\")\n",
        "                    del data, bag_label\n",
        "                    \n",
        "                    # backward + optimize only if in training phase\n",
        "                    if phase == 'train':\n",
        "                        loss.backward()\n",
        "                        optimizer.step()\n",
        "\n",
        "            print(f\"End of phase: the true positve is {true_positve}, false positive is {false_positive}, true negative is {true_negative}, false negative is {false_negative}\")\n",
        "            # if phase == 'train':\n",
        "            #   try:\n",
        "            #     print(f\"Explicit result: fpr is {true_negative/(true_negative + false_positive)}, tpr is {true_positve/(true_positve + false_negative)}\")\n",
        "            #     expect_fpr[epoch] = (true_negative/(true_negative + false_positive))\n",
        "            #     expect_tpr[epoch] = (true_positve/(true_positve + false_negative))\n",
        "            #     print(f\"y_true is {y_true}, y_predict is {y_predict}\")\n",
        "            #   except ZeroDivisionError:\n",
        "            #     print(\"zero devision occurs\")\n",
        "            \n",
        "            fpr, tpr, _ = roc_curve(y_true, y_predict)\n",
        "            print(f\"Roc calculation result: fpr is {fpr}, tpr is {tpr}\")\n",
        "            # roc_fpr[:, epoch] = fpr\n",
        "            # roc_tpr[:, epoch] = tpr\n",
        "            roc_auc = auc(fpr, tpr)\n",
        "            plt.figure()\n",
        "            lw = 2\n",
        "            plt.plot(fpr, tpr, color='darkorange',lw=lw, label='ROC curve (area = %0.2f)' % roc_auc)\n",
        "            plt.plot([0, 1], [0, 1], color='navy', lw=lw, linestyle='--')\n",
        "            plt.xlim([0.0, 1.0])\n",
        "            plt.ylim([0.0, 1.05])\n",
        "            plt.xlabel('False Positive Rate')\n",
        "            plt.ylabel('True Positive Rate')\n",
        "            plt.title('Receiver operating characteristic example')\n",
        "            plt.legend(loc=\"lower right\")\n",
        "            plt.show()\n",
        "            \n",
        "\n",
        "\n",
        "            #   # if phase == 'train':\n",
        "            #   #     scheduler.step()\n",
        "\n",
        "            # dataset_sizes = dataloader.dataset.__len__()\n",
        "            # epoch_loss = running_loss / dataset_sizes\n",
        "            # # epoch_acc = running_corrects.double() / dataset_sizes\n",
        "            # epoch_acc = running_corrects / dataset_size_count\n",
        "            \n",
        "            # # print('Phase {}'.format(phase))\n",
        "            # # print(\"Loss: \")\n",
        "            # # print(train_loss)\n",
        "            # # print(\"Error: \")\n",
        "            # # print(train_error)\n",
        "\n",
        "            # # print('{} Loss: {:.4f} error: {:.4f} by Size: {:.4f}'.format(\n",
        "            # #     phase, train_loss, train_error, dataset_sizes))\n",
        "\n",
        "\n",
        "            # deep copy the model\n",
        "            if phase == 'val':\n",
        "              epoch_phase_acc = 1 - (train_error / dataloader.dataset.__len__())\n",
        "              if epoch_phase_acc > best_acc:\n",
        "                print(f\"epoch_phase_acc is {epoch_phase_acc}\")\n",
        "                best_acc = epoch_phase_acc\n",
        "                best_model_wts = copy.deepcopy(model.state_dict())\n",
        "\n",
        "            with writer.as_default():\n",
        "              if phase == 'val':\n",
        "                tf.summary.scalar('Loss/Validation', train_loss, step=epoch)\n",
        "                tf.summary.scalar('Error/Validation', train_error, step=epoch)\n",
        "              else:\n",
        "                tf.summary.scalar('Loss/Train', train_loss, step=epoch)\n",
        "                tf.summary.scalar('Error/Train', train_error, step=epoch)\n",
        "\n",
        "        print()\n",
        "\n",
        "    time_elapsed = time.time() - since\n",
        "    print('Training complete in {:.0f}m {:.0f}s'.format(\n",
        "        time_elapsed // 60, time_elapsed % 60))\n",
        "    print('Best val Acc: {:4f}'.format(best_acc))\n",
        "    writer.close()\n",
        "    # load best model weights\n",
        "    model.load_state_dict(best_model_wts)\n",
        "    \n",
        "    return model"
      ],
      "execution_count": null,
      "outputs": []
    },
    {
      "cell_type": "code",
      "metadata": {
        "id": "EWaYnECRm_Ej"
      },
      "source": [
        "def test(model, optimizer, test_loader):\n",
        "    since = time.time()\n",
        "    test_size = test_loader.dataset.__len__()\n",
        "    print(f\"the number of test sample is {test_size}\")\n",
        "\n",
        "\n",
        "    # Test phase\n",
        "\n",
        "    train_error = 0.0\n",
        "    true_positve = 0.0\n",
        "    false_positive = 0.0\n",
        "    true_negative = 0.0\n",
        "    false_negative = 0.0\n",
        "    y_true = []\n",
        "    y_predict = []\n",
        "    for batch_idx, (data, bag_label) in enumerate(test_loader):\n",
        "        print(\"test start\")\n",
        "        optimizer.zero_grad()\n",
        "        data, bag_label = data.cuda(), bag_label.cuda()\n",
        "        with torch.no_grad():\n",
        "            loss, _, Y_prob_roc, error, _ = model.calculate_classification_error_and_objective(data, bag_label)\n",
        "            train_error += error\n",
        "            if bag_label == 1:\n",
        "              y_true.append(1)\n",
        "              if error == 0.0:\n",
        "                true_positve += 1\n",
        "              elif error == 1.0:\n",
        "                false_positive += 1\n",
        "            elif bag_label == 0:\n",
        "              y_true.append(0)\n",
        "              if error == 0.0:\n",
        "                true_negative += 1\n",
        "              elif error == 1.0:\n",
        "                false_negative += 1\n",
        "            # print(Y_prob_roc)\n",
        "            y_predict.append(Y_prob_roc)\n",
        "\n",
        "            # print(\"free memory\")\n",
        "            del data, bag_label\n",
        "    print(f\"End of phase: the true positve is {true_positve}, false positive is {false_positive}, true negative is {true_negative}, false negative is {false_negative}\")\n",
        "    fpr, tpr, _ = roc_curve(y_true, y_predict)\n",
        "    print(f\"Roc calculation result: fpr is {fpr}, tpr is {tpr}\")\n",
        "    # roc_fpr[:, epoch] = fpr\n",
        "    # roc_tpr[:, epoch] = tpr\n",
        "    roc_auc = auc(fpr, tpr)\n",
        "    plt.figure()\n",
        "    lw = 2\n",
        "    plt.plot(fpr, tpr, color='darkorange',lw=lw, label='ROC curve (area = %0.2f)' % roc_auc)\n",
        "    plt.plot([0, 1], [0, 1], color='navy', lw=lw, linestyle='--')\n",
        "    plt.xlim([0.0, 1.0])\n",
        "    plt.ylim([0.0, 1.05])\n",
        "    plt.xlabel('False Positive Rate')\n",
        "    plt.ylabel('True Positive Rate')\n",
        "    plt.title('Receiver operating characteristic example')\n",
        "    plt.legend(loc=\"lower right\")\n",
        "    plt.show()\n",
        "    test_acc = 1 - (train_error / test_loader.dataset.__len__())\n",
        "\n",
        "    time_elapsed = time.time() - since\n",
        "    print('Test complete in {:.0f}m {:.0f}s'.format(\n",
        "        time_elapsed // 60, time_elapsed % 60))\n",
        "    print('Test Acc: {:4f}'.format(test_acc))\n",
        "    # load best model weights\n",
        "    # model.load_state_dict(best_model_wts)\n",
        "    \n",
        "    return model"
      ],
      "execution_count": null,
      "outputs": []
    },
    {
      "cell_type": "markdown",
      "metadata": {
        "id": "Neg5oen5nDxN"
      },
      "source": [
        "## 5e-8"
      ]
    },
    {
      "cell_type": "code",
      "metadata": {
        "id": "rAttGMIbnMO6"
      },
      "source": [
        "log_dir = 'logs/learning_rate/max_Resnet/lr=5e-8'\n",
        "summary_writer = tf.summary.create_file_writer(log_dir)\n",
        "model = max_resnet(output_layer = 'layer4')\n",
        "model = model.to(cuda)\n",
        "optimizer = optim.Adam(model.parameters(), lr=5e-8, betas=(0.9, 0.999), weight_decay=0.001)\n",
        "\n",
        "return_model = train(model, optimizer, train_dataloader, val_dataloader, summary_writer, num_epochs=30)\n",
        "del return_model"
      ],
      "execution_count": null,
      "outputs": []
    },
    {
      "cell_type": "markdown",
      "metadata": {
        "id": "8PsyrWF0nFEk"
      },
      "source": [
        "## 5e-7"
      ]
    },
    {
      "cell_type": "code",
      "metadata": {
        "id": "dxZ5c_KbnNMZ"
      },
      "source": [
        "log_dir = 'logs/learning_rate/max_Resnet/lr=5e-7'\n",
        "summary_writer = tf.summary.create_file_writer(log_dir)\n",
        "model = max_resnet(output_layer = 'layer4')\n",
        "model = model.to(cuda)\n",
        "optimizer = optim.Adam(model.parameters(), lr=5e-7, betas=(0.9, 0.999), weight_decay=0.001)\n",
        "\n",
        "return_model = train(model, optimizer, train_dataloader, val_dataloader, summary_writer, num_epochs=30)\n",
        "del return_model"
      ],
      "execution_count": null,
      "outputs": []
    },
    {
      "cell_type": "markdown",
      "metadata": {
        "id": "KU_hg1dKnFwC"
      },
      "source": [
        "## 5e-6"
      ]
    },
    {
      "cell_type": "code",
      "metadata": {
        "id": "v978n9J0nQRD"
      },
      "source": [
        "log_dir = 'logs/learning_rate/max_Resnet/lr=5e-6'\n",
        "summary_writer = tf.summary.create_file_writer(log_dir)\n",
        "model = max_resnet(output_layer = 'layer4')\n",
        "model = model.to(cuda)\n",
        "optimizer = optim.Adam(model.parameters(), lr=5e-6, betas=(0.9, 0.999), weight_decay=0.001)\n",
        "\n",
        "return_model = train(model, optimizer, train_dataloader, val_dataloader, summary_writer, num_epochs=30)\n",
        "del return_model"
      ],
      "execution_count": null,
      "outputs": []
    },
    {
      "cell_type": "markdown",
      "metadata": {
        "id": "GejO2XqNnGbR"
      },
      "source": [
        "## 5e-5"
      ]
    },
    {
      "cell_type": "code",
      "metadata": {
        "id": "9GrUqT9znJWX"
      },
      "source": [
        "log_dir = 'logs/learning_rate/max_Resnet/lr=5e-5'\n",
        "summary_writer = tf.summary.create_file_writer(log_dir)\n",
        "model = max_resnet(output_layer = 'layer4')\n",
        "model = model.to(cuda)\n",
        "optimizer = optim.Adam(model.parameters(), lr=5e-5, betas=(0.9, 0.999), weight_decay=0.001)\n",
        "\n",
        "return_model = train(model, optimizer, train_dataloader, val_dataloader, summary_writer, num_epochs=30)\n",
        "del return_model"
      ],
      "execution_count": null,
      "outputs": []
    },
    {
      "cell_type": "code",
      "metadata": {
        "id": "PHKFwdMInX2I"
      },
      "source": [
        "# Load the TensorBoard notebook extension\n",
        "%load_ext tensorboard\n",
        "# %reload_ext tensorboard\n",
        "%tensorboard --logdir logs/learning_rate/max_Resnet"
      ],
      "execution_count": null,
      "outputs": []
    },
    {
      "cell_type": "markdown",
      "metadata": {
        "id": "GGm7DegBncWz"
      },
      "source": [
        "## Full Epochs"
      ]
    },
    {
      "cell_type": "code",
      "metadata": {
        "id": "bhjBGT7aneDQ"
      },
      "source": [
        "current_time = datetime.datetime.now().strftime(\"%m%d-%H%M\")\n",
        "log_dir = 'logs/full_epochs/' + current_time + '/max_Resnet/lr=5e-6'\n",
        "summary_writer = tf.summary.create_file_writer(log_dir)\n",
        "\n",
        "model = max_resnet(output_layer = 'layer4')\n",
        "\n",
        "model = model.to(cuda)\n",
        "\n",
        "optimizer = optim.Adam(model.parameters(), lr=5e-6, betas=(0.9, 0.999), weight_decay=0.001)\n",
        "\n",
        "return_model = train(model, optimizer, train_dataloader, val_dataloader, summary_writer, num_epochs=60)"
      ],
      "execution_count": null,
      "outputs": []
    },
    {
      "cell_type": "code",
      "metadata": {
        "id": "nD68qChAnfCR"
      },
      "source": [
        "# Load the TensorBoard notebook extension\n",
        "%load_ext tensorboard\n",
        "%tensorboard --logdir logs/full_epochs/0427-1536/"
      ],
      "execution_count": null,
      "outputs": []
    },
    {
      "cell_type": "markdown",
      "metadata": {
        "id": "JN0zoy56niVO"
      },
      "source": [
        "## Test"
      ]
    },
    {
      "cell_type": "code",
      "metadata": {
        "id": "Oji2THoxnj54"
      },
      "source": [
        "hyper_parameters = {\n",
        "    # Training Control Parameters\n",
        "    \n",
        "    # Dataset Parameters\n",
        "    'max_bag_size': 200,\n",
        "    'dataset_max_size': None,\n",
        "    'with_data_augmentation': False,\n",
        "    # 'with_tensorboard': not args.no_tensorboard,\n",
        "    'seed': 123,\n",
        "    # 'val_size': 0.15,\n",
        "    # 'test_size': 0,\n",
        "    'val_size': 0.02,\n",
        "    'test_size': 0.95,\n",
        "}\n",
        "\n",
        "logger = None\n",
        "input_width = 224\n",
        "train_dataset, val_dataset, test_dataset, whole_cases_ids, whole_indexes, whole_dataset = build_datasets(source_slides_folders=slides_folders,\n",
        "                                                              model_input_width=input_width,\n",
        "                                                              hyper_parameters=hyper_parameters,\n",
        "                                                              logger=logger)\n",
        "N_PROCESSES = 5\n",
        "def to_dataloader(dataset, for_training):\n",
        "    assert isinstance(dataset, Dataset) or isinstance(dataset, torch.utils.data.Subset)\n",
        "    return torch.utils.data.DataLoader(dataset, batch_size=1, shuffle=for_training, num_workers=N_PROCESSES)\n",
        "\n",
        "train_dataloader = to_dataloader(train_dataset, True)\n",
        "val_dataloader = to_dataloader(val_dataset, False) if len(val_dataset) else None\n",
        "test_dataloader = to_dataloader(test_dataset, False) if len(test_dataset) else None"
      ],
      "execution_count": null,
      "outputs": []
    },
    {
      "cell_type": "code",
      "metadata": {
        "id": "6HSb_pZBnlcD"
      },
      "source": [
        "train_carcinoma = 0\n",
        "train_non_carcinoma = 0\n",
        "try:\n",
        "  for batch_idx, (data, bag_label) in enumerate(train_dataloader):\n",
        "    if bag_label == torch.Tensor([0]):\n",
        "      train_carcinoma += 1\n",
        "    else:\n",
        "      train_non_carcinoma += 1\n",
        "  print(\"There are %d carcinoma and %d non-carcinoma samples in the training set\" %(train_carcinoma, train_non_carcinoma))\n",
        "except TypeError:\n",
        "  print(\"Nan\")\n",
        "\n",
        "val_carcinoma = 0\n",
        "val_non_carcinoma = 0\n",
        "try:\n",
        "  for batch_idx, (data, bag_label) in enumerate(val_dataloader):\n",
        "    if bag_label == torch.Tensor([0]):\n",
        "      val_carcinoma += 1\n",
        "    else:\n",
        "      val_non_carcinoma += 1\n",
        "  print(\"There are %d carcinoma and %d non-carcinoma samples in the validation set\" %(val_carcinoma, val_non_carcinoma))\n",
        "except TypeError:\n",
        "  print(\"Nan\")\n",
        "\n",
        "test_carcinoma = 0\n",
        "test_non_carcinoma = 0\n",
        "try:\n",
        "  for batch_idx, (data, bag_label) in enumerate(test_dataloader):\n",
        "    if bag_label == torch.Tensor([0]):\n",
        "      test_carcinoma += 1\n",
        "    else:\n",
        "      test_non_carcinoma += 1\n",
        "  print(\"There are %d carcinoma and %d non-carcinoma samples in the test set\" %(test_carcinoma, test_non_carcinoma))\n",
        "except TypeError:\n",
        "  print(\"Nan\")"
      ],
      "execution_count": null,
      "outputs": []
    },
    {
      "cell_type": "code",
      "metadata": {
        "id": "KWFXKoGZnnDI"
      },
      "source": [
        "final = test(return_model, optimizer, test_dataloader)"
      ],
      "execution_count": null,
      "outputs": []
    },
    {
      "cell_type": "code",
      "metadata": {
        "id": "Q1UoKlfBn1D2"
      },
      "source": [
        ""
      ],
      "execution_count": null,
      "outputs": []
    },
    {
      "cell_type": "markdown",
      "metadata": {
        "id": "Tb9ae5-Skgab"
      },
      "source": [
        "# 3.Attention-MIL (Lenet)"
      ]
    },
    {
      "cell_type": "code",
      "metadata": {
        "id": "mRcGhYEWy5BI"
      },
      "source": [
        "def train_attention(model, optimizer, train_loader, val_loader, writer, num_epochs=25):\n",
        "    since = time.time()\n",
        "\n",
        "    best_model_wts = copy.deepcopy(model.state_dict())\n",
        "    best_acc = 0.0\n",
        "    train_size = train_loader.dataset.__len__()\n",
        "    val_size = val_loader.dataset.__len__()\n",
        "    print(f\"the number of training sample is {train_size}, the number of valisation sample is {val_size}\")\n",
        "    for epoch in range(num_epochs):\n",
        "        print('Epoch {}/{}'.format(epoch, num_epochs))\n",
        "        print('-' * 10)\n",
        "\n",
        "        expect_fpr = np.zeros((num_epochs, 1))\n",
        "        expect_tpr = np.zeros((num_epochs, 1))\n",
        "        roc_fpr = np.zeros((3, num_epochs))\n",
        "        roc_tpr = np.zeros((3, num_epochs))\n",
        "\n",
        "        # Each epoch has a training and validation phase\n",
        "        for phase in ['train', 'val']:\n",
        "            train_loss = 0.\n",
        "            train_error = 0.\n",
        "            if phase == 'train':\n",
        "                model.train()  # Set model to training mode\n",
        "                dataloader = train_loader\n",
        "            else:\n",
        "                model.eval()   # Set model to evaluate mode\n",
        "                dataloader = val_loader\n",
        "\n",
        "            # running_loss = 0.0\n",
        "            # running_corrects = 0\n",
        "            # dataset_size_count = 0\n",
        "\n",
        "            true_positve = 0.0\n",
        "            false_positive = 0.0\n",
        "            true_negative = 0.0\n",
        "            false_negative = 0.0\n",
        "            y_true = []\n",
        "            y_predict = []\n",
        "\n",
        "            # Iterate over data.\n",
        "            for batch_idx, (data, bag_label) in enumerate(dataloader):\n",
        "            # for inputs, labels in dataloader:\n",
        "                print(phase + \" start\")\n",
        "                # dataset_size_count += data.shape[0]\n",
        "                # # zero the parameter gradients\n",
        "                optimizer.zero_grad()\n",
        "\n",
        "                data, bag_label = data.cuda(), bag_label.cuda()\n",
        "                # data, bag_label = data.to(dev), bag_label.to(dev)\n",
        "                # forward\n",
        "                # track history if only in train\n",
        "                with torch.set_grad_enabled(phase == 'train'):\n",
        "\n",
        "                    # calculate loss and metrics\n",
        "                    # loss, _, Y_prob_roc = model.calculate_objective(data, bag_label)\n",
        "                    # train_loss += loss.data[0].cpu().float()\n",
        "\n",
        "                    # error, _ = model.calculate_classification_error(data, bag_label)\n",
        "                    # train_error += error\n",
        "\n",
        "                    loss, _, Y_prob_roc, error, _ = model.calculate_classification_error_and_objective(data, bag_label)\n",
        "                    # print(f\"loss is {loss}\")\n",
        "                    train_loss += torch.squeeze(loss.data[0]).cpu().float()\n",
        "                    # print(f\"trin loss is {train_loss}\")\n",
        "                    train_error += error\n",
        "\n",
        "                    if bag_label == 1:\n",
        "                      y_true.append(1)\n",
        "                      if error == 0.0:\n",
        "                        true_positve += 1\n",
        "                      elif error == 1.0:\n",
        "                        false_positive += 1\n",
        "                    elif bag_label == 0:\n",
        "                      y_true.append(0)\n",
        "                      if error == 0.0:\n",
        "                        true_negative += 1\n",
        "                      elif error == 1.0:\n",
        "                        false_negative += 1\n",
        "                    # print(Y_prob_roc)\n",
        "                    y_predict.append(Y_prob_roc)\n",
        "                    \n",
        "                    # print(\"free memory\")\n",
        "                    del data, bag_label\n",
        "                    \n",
        "                    # backward + optimize only if in training phase\n",
        "                    if phase == 'train':\n",
        "                        loss.backward()\n",
        "                        optimizer.step()\n",
        "\n",
        "            print(f\"End of phase: the true positve is {true_positve}, false positive is {false_positive}, true negative is {true_negative}, false negative is {false_negative}\")\n",
        "            # if phase == 'train':\n",
        "            #   try:\n",
        "            #     print(f\"Explicit result: fpr is {true_negative/(true_negative + false_positive)}, tpr is {true_positve/(true_positve + false_negative)}\")\n",
        "            #     expect_fpr[epoch] = (true_negative/(true_negative + false_positive))\n",
        "            #     expect_tpr[epoch] = (true_positve/(true_positve + false_negative))\n",
        "            #     print(f\"y_true is {y_true}, y_predict is {y_predict}\")\n",
        "            #   except ZeroDivisionError:\n",
        "            #     print(\"zero devision occurs\")\n",
        "            \n",
        "            fpr, tpr, _ = roc_curve(y_true, y_predict)\n",
        "            print(f\"Roc calculation result: fpr is {fpr}, tpr is {tpr}\")\n",
        "            # roc_fpr[:, epoch] = fpr\n",
        "            # roc_tpr[:, epoch] = tpr\n",
        "            roc_auc = auc(fpr, tpr)\n",
        "            plt.figure()\n",
        "            lw = 2\n",
        "            plt.plot(fpr, tpr, color='darkorange',lw=lw, label='ROC curve (area = %0.2f)' % roc_auc)\n",
        "            plt.plot([0, 1], [0, 1], color='navy', lw=lw, linestyle='--')\n",
        "            plt.xlim([0.0, 1.0])\n",
        "            plt.ylim([0.0, 1.05])\n",
        "            plt.xlabel('False Positive Rate')\n",
        "            plt.ylabel('True Positive Rate')\n",
        "            plt.title('Receiver operating characteristic example')\n",
        "            plt.legend(loc=\"lower right\")\n",
        "            plt.show()\n",
        "            #   # if phase == 'train':\n",
        "            #   #     scheduler.step()\n",
        "\n",
        "            # dataset_sizes = dataloader.dataset.__len__()\n",
        "            # epoch_loss = running_loss / dataset_sizes\n",
        "            # # epoch_acc = running_corrects.double() / dataset_sizes\n",
        "            # epoch_acc = running_corrects / dataset_size_count\n",
        "            \n",
        "            # # print('Phase {}'.format(phase))\n",
        "            # # print(\"Loss: \")\n",
        "            # # print(train_loss)\n",
        "            # # print(\"Error: \")\n",
        "            # # print(train_error)\n",
        "\n",
        "            # # print('{} Loss: {:.4f} error: {:.4f} by Size: {:.4f}'.format(\n",
        "            # #     phase, train_loss, train_error, dataset_sizes))\n",
        "            epoch_phase_acc = 1 - (train_error / dataloader.dataset.__len__())\n",
        "\n",
        "            # deep copy the model\n",
        "            if phase == 'val':\n",
        "              epoch_phase_acc = 1 - (train_error / dataloader.dataset.__len__())\n",
        "              if epoch_phase_acc > best_acc:\n",
        "                print(f\"better epoch_phase_acc is {epoch_phase_acc}\")\n",
        "                best_acc = epoch_phase_acc\n",
        "                best_model_wts = copy.deepcopy(model.state_dict())\n",
        "            # print(f\"train loss before {train_loss}\")\n",
        "            # train_loss = torch.squeeze(train_loss)\n",
        "            # print(f\"train loss after {train_loss}\")\n",
        "            with writer.as_default():\n",
        "              if phase == 'val':\n",
        "                tf.summary.scalar('Loss/Validation', train_loss, step=epoch)\n",
        "                tf.summary.scalar('Error/Validation', train_error, step=epoch)\n",
        "              else:\n",
        "                tf.summary.scalar('Loss/Train', train_loss, step=epoch)\n",
        "                tf.summary.scalar('Error/Train', train_error, step=epoch)\n",
        "\n",
        "        print()\n",
        "\n",
        "    time_elapsed = time.time() - since\n",
        "    print('Training complete in {:.0f}m {:.0f}s'.format(\n",
        "        time_elapsed // 60, time_elapsed % 60))\n",
        "    print('Best val Acc: {:4f}'.format(best_acc))\n",
        "    writer.close()\n",
        "    # load best model weights\n",
        "    model.load_state_dict(best_model_wts)\n",
        "    \n",
        "    return model"
      ],
      "execution_count": null,
      "outputs": []
    },
    {
      "cell_type": "markdown",
      "metadata": {
        "id": "1bPlMFyE1ryi"
      },
      "source": [
        "## Dataset split"
      ]
    },
    {
      "cell_type": "code",
      "metadata": {
        "id": "k5w0mNid1xIo",
        "colab": {
          "base_uri": "https://localhost:8080/"
        },
        "outputId": "11fd0a76-767c-4a53-f829-3f9ef6bde9e2"
      },
      "source": [
        "hyper_parameters = {\n",
        "    # Training Control Parameters\n",
        "    \n",
        "    # Dataset Parameters\n",
        "    'max_bag_size': 200,\n",
        "    'dataset_max_size': None,\n",
        "    'with_data_augmentation': False,\n",
        "    # 'with_tensorboard': not args.no_tensorboard,\n",
        "    'seed': 123,\n",
        "    'val_size': 0.15,\n",
        "    'test_size': 0,\n",
        "    # 'val_size': 0.02,\n",
        "    # 'test_size': 0.95,\n",
        "}\n",
        "\n",
        "logger = None\n",
        "input_width = 224\n",
        "train_dataset, val_dataset, test_dataset, whole_cases_ids, whole_indexes, whole_dataset = build_datasets(source_slides_folders=slides_folders,\n",
        "                                                              model_input_width=input_width,\n",
        "                                                              hyper_parameters=hyper_parameters,\n",
        "                                                              logger=logger)\n",
        "N_PROCESSES = 5\n",
        "def to_dataloader(dataset, for_training):\n",
        "    assert isinstance(dataset, Dataset) or isinstance(dataset, torch.utils.data.Subset)\n",
        "    return torch.utils.data.DataLoader(dataset, batch_size=1, shuffle=for_training, num_workers=N_PROCESSES)\n",
        "\n",
        "train_dataloader = to_dataloader(train_dataset, True)\n",
        "val_dataloader = to_dataloader(val_dataset, False) if len(val_dataset) else None\n",
        "test_dataloader = to_dataloader(test_dataset, False) if len(test_dataset) else None\n"
      ],
      "execution_count": null,
      "outputs": [
        {
          "output_type": "stream",
          "text": [
            "100%|██████████| 49/49 [00:00<00:00, 57.24it/s]"
          ],
          "name": "stderr"
        },
        {
          "output_type": "stream",
          "text": [
            "end\n",
            "\n"
          ],
          "name": "stdout"
        },
        {
          "output_type": "stream",
          "text": [
            "\n",
            "/usr/local/lib/python3.7/dist-packages/torch/utils/data/dataloader.py:477: UserWarning: This DataLoader will create 5 worker processes in total. Our suggested max number of worker in current system is 4, which is smaller than what this DataLoader is going to create. Please be aware that excessive worker creation might get DataLoader running slow or even freeze, lower the worker number to avoid potential slowness/freeze if necessary.\n",
            "  cpuset_checked))\n"
          ],
          "name": "stderr"
        }
      ]
    },
    {
      "cell_type": "code",
      "metadata": {
        "id": "VmGNpxMU1uqm",
        "colab": {
          "base_uri": "https://localhost:8080/"
        },
        "outputId": "5961eea4-f040-45e1-b784-f197a91fd54b"
      },
      "source": [
        "train_carcinoma = 0\n",
        "train_non_carcinoma = 0\n",
        "try:\n",
        "  for batch_idx, (data, bag_label) in enumerate(train_dataloader):\n",
        "    if bag_label == torch.Tensor([0]):\n",
        "      train_carcinoma += 1\n",
        "    else:\n",
        "      train_non_carcinoma += 1\n",
        "  print(\"There are %d carcinoma and %d non-carcinoma samples in the training set\" %(train_carcinoma, train_non_carcinoma))\n",
        "except TypeError:\n",
        "  print(\"Nan\")\n",
        "\n",
        "val_carcinoma = 0\n",
        "val_non_carcinoma = 0\n",
        "try:\n",
        "  for batch_idx, (data, bag_label) in enumerate(val_dataloader):\n",
        "    if bag_label == torch.Tensor([0]):\n",
        "      val_carcinoma += 1\n",
        "    else:\n",
        "      val_non_carcinoma += 1\n",
        "  print(\"There are %d carcinoma and %d non-carcinoma samples in the validation set\" %(val_carcinoma, val_non_carcinoma))\n",
        "except TypeError:\n",
        "  print(\"Nan\")\n",
        "\n",
        "test_carcinoma = 0\n",
        "test_non_carcinoma = 0\n",
        "try:\n",
        "  for batch_idx, (data, bag_label) in enumerate(test_dataloader):\n",
        "    if bag_label == torch.Tensor([0]):\n",
        "      test_carcinoma += 1\n",
        "    else:\n",
        "      test_non_carcinoma += 1\n",
        "  print(\"There are %d carcinoma and %d non-carcinoma samples in the test set\" %(test_carcinoma, test_non_carcinoma))\n",
        "except TypeError:\n",
        "  print(\"Nan\")"
      ],
      "execution_count": null,
      "outputs": [
        {
          "output_type": "stream",
          "text": [
            "/usr/local/lib/python3.7/dist-packages/torch/utils/data/dataloader.py:477: UserWarning: This DataLoader will create 5 worker processes in total. Our suggested max number of worker in current system is 4, which is smaller than what this DataLoader is going to create. Please be aware that excessive worker creation might get DataLoader running slow or even freeze, lower the worker number to avoid potential slowness/freeze if necessary.\n",
            "  cpuset_checked))\n"
          ],
          "name": "stderr"
        },
        {
          "output_type": "stream",
          "text": [
            "There are 13 carcinoma and 27 non-carcinoma samples in the training set\n",
            "There are 3 carcinoma and 5 non-carcinoma samples in the validation set\n",
            "There are 0 carcinoma and 1 non-carcinoma samples in the test set\n"
          ],
          "name": "stdout"
        }
      ]
    },
    {
      "cell_type": "markdown",
      "metadata": {
        "id": "APZ7Xjje1yY2"
      },
      "source": [
        "## Model"
      ]
    },
    {
      "cell_type": "code",
      "metadata": {
        "id": "lrk466NYkipU"
      },
      "source": [
        "class attention_lenet(nn.Module):\n",
        "    def __init__(self):\n",
        "        super(attention_lenet, self).__init__()\n",
        "        self.L = 500\n",
        "        self.D = 128\n",
        "        self.K = 1\n",
        "\n",
        "        self.feature_extractor_part1 = nn.Sequential(\n",
        "            nn.Conv2d(3, 20, kernel_size=5),\n",
        "            nn.ReLU(),\n",
        "            nn.MaxPool2d(2, stride=2),\n",
        "            nn.Conv2d(20, 50, kernel_size=5),\n",
        "            nn.ReLU(),\n",
        "            nn.MaxPool2d(2, stride=2)\n",
        "        )\n",
        "\n",
        "        # self.feature_extractor_part1 = nn.Sequential(\n",
        "        #     nn.Conv2d(1, 20, kernel_size=5),\n",
        "        #     nn.ReLU(),\n",
        "        #     nn.MaxPool2d(2, stride=2),\n",
        "        #     nn.Conv2d(20, 50, kernel_size=5),\n",
        "        #     nn.ReLU(),\n",
        "        #     nn.MaxPool2d(2, stride=2)\n",
        "        # )\n",
        "\n",
        "        self.feature_extractor_part2 = nn.Sequential(\n",
        "            nn.Linear(50 * 53 * 53, self.L),\n",
        "            nn.ReLU(),\n",
        "        )\n",
        "\n",
        "        self.attention = nn.Sequential(\n",
        "            nn.Linear(self.L, self.D),\n",
        "            nn.Tanh(),\n",
        "            nn.Linear(self.D, self.K)\n",
        "        )\n",
        "\n",
        "        self.classifier = nn.Sequential(\n",
        "            nn.Linear(self.L*self.K, 1),\n",
        "            nn.Sigmoid()\n",
        "        )\n",
        "\n",
        "    def forward(self, x):\n",
        "        x = x.squeeze(0)\n",
        "\n",
        "        H = self.feature_extractor_part1(x)\n",
        "        # print(H.size())\n",
        "        H = H.view(-1, 50 * 53 * 53)\n",
        "        # H = H.view(-1, 50 * 4 * 4 * 3)\n",
        "        # print(H.size())\n",
        "        # print(H.size())\n",
        "        H = self.feature_extractor_part2(H)  # NxL\n",
        "        # print(H.size())\n",
        "\n",
        "        A = self.attention(H)  # NxK\n",
        "        A = torch.transpose(A, 1, 0)  # KxN\n",
        "        A = F.softmax(A, dim=1)  # softmax over N\n",
        "\n",
        "        M = torch.mm(A, H)  # KxL\n",
        "\n",
        "        Y_prob = self.classifier(M)\n",
        "        Y_hat = torch.ge(Y_prob, 0.5).float()\n",
        "\n",
        "        return Y_prob, Y_hat, A\n",
        "\n",
        "    # AUXILIARY METHODS\n",
        "    def calculate_classification_error(self, X, Y):\n",
        "        Y = Y.float()\n",
        "        _, Y_hat, _ = self.forward(X)\n",
        "        error = 1. - Y_hat.eq(Y).cpu().float().mean().item()\n",
        "\n",
        "        return error, Y_hat\n",
        "\n",
        "    def calculate_objective(self, X, Y):\n",
        "        Y = Y.float()\n",
        "        Y_prob, _, A = self.forward(X)\n",
        "        Y_prob = torch.clamp(Y_prob, min=1e-5, max=1. - 1e-5)\n",
        "        neg_log_likelihood = -1. * (Y * torch.log(Y_prob) + (1. - Y) * torch.log(1. - Y_prob))  # negative log bernoulli\n",
        "\n",
        "        return neg_log_likelihood, A\n",
        "    # AUXILIARY METHODS\n",
        "    def calculate_classification_error_and_objective(self, X, Y):\n",
        "        Y = Y.float()\n",
        "        Y_prob_roc, Y_hat, A = self.forward(X)\n",
        "        error = 1. - Y_hat.eq(Y).cpu().float().mean().item()\n",
        "        Y_prob = torch.clamp(Y_prob_roc, min=1e-5, max=1. - 1e-5)\n",
        "        neg_log_likelihood = -1. * (Y * torch.log(Y_prob) + (1. - Y) * torch.log(1. - Y_prob))  # negative log bernoulli\n",
        "\n",
        "\n",
        "        return neg_log_likelihood, A, Y_prob_roc.detach().cpu().float(), error, Y_hat\n"
      ],
      "execution_count": null,
      "outputs": []
    },
    {
      "cell_type": "code",
      "metadata": {
        "id": "oe3OfDuMkmZu",
        "colab": {
          "base_uri": "https://localhost:8080/"
        },
        "outputId": "0f719f91-2bd5-49d5-b9a2-2d59713ae5e5"
      },
      "source": [
        "cuda = torch.device('cuda:0')\n",
        "attention_model = attention_lenet()\n",
        "attention_model = attention_model.to(cuda)\n",
        "summary(attention_model, (3, 224, 224))"
      ],
      "execution_count": null,
      "outputs": [
        {
          "output_type": "stream",
          "text": [
            "----------------------------------------------------------------\n",
            "        Layer (type)               Output Shape         Param #\n",
            "================================================================\n",
            "            Conv2d-1         [-1, 20, 220, 220]           1,520\n",
            "              ReLU-2         [-1, 20, 220, 220]               0\n",
            "         MaxPool2d-3         [-1, 20, 110, 110]               0\n",
            "            Conv2d-4         [-1, 50, 106, 106]          25,050\n",
            "              ReLU-5         [-1, 50, 106, 106]               0\n",
            "         MaxPool2d-6           [-1, 50, 53, 53]               0\n",
            "            Linear-7                  [-1, 500]      70,225,500\n",
            "              ReLU-8                  [-1, 500]               0\n",
            "            Linear-9                  [-1, 128]          64,128\n",
            "             Tanh-10                  [-1, 128]               0\n",
            "           Linear-11                    [-1, 1]             129\n",
            "           Linear-12                    [-1, 1]             501\n",
            "          Sigmoid-13                    [-1, 1]               0\n",
            "================================================================\n",
            "Total params: 70,316,828\n",
            "Trainable params: 70,316,828\n",
            "Non-trainable params: 0\n",
            "----------------------------------------------------------------\n",
            "Input size (MB): 0.57\n",
            "Forward/backward pass size (MB): 26.27\n",
            "Params size (MB): 268.24\n",
            "Estimated Total Size (MB): 295.08\n",
            "----------------------------------------------------------------\n"
          ],
          "name": "stdout"
        }
      ]
    },
    {
      "cell_type": "code",
      "metadata": {
        "id": "X3nRA5djkn2x",
        "colab": {
          "base_uri": "https://localhost:8080/"
        },
        "outputId": "6ccd58c8-a72e-43b7-dea9-5159964dcadc"
      },
      "source": [
        "print(attention_model)\n",
        "del attention_model"
      ],
      "execution_count": null,
      "outputs": [
        {
          "output_type": "stream",
          "text": [
            "attention_lenet(\n",
            "  (feature_extractor_part1): Sequential(\n",
            "    (0): Conv2d(3, 20, kernel_size=(5, 5), stride=(1, 1))\n",
            "    (1): ReLU()\n",
            "    (2): MaxPool2d(kernel_size=2, stride=2, padding=0, dilation=1, ceil_mode=False)\n",
            "    (3): Conv2d(20, 50, kernel_size=(5, 5), stride=(1, 1))\n",
            "    (4): ReLU()\n",
            "    (5): MaxPool2d(kernel_size=2, stride=2, padding=0, dilation=1, ceil_mode=False)\n",
            "  )\n",
            "  (feature_extractor_part2): Sequential(\n",
            "    (0): Linear(in_features=140450, out_features=500, bias=True)\n",
            "    (1): ReLU()\n",
            "  )\n",
            "  (attention): Sequential(\n",
            "    (0): Linear(in_features=500, out_features=128, bias=True)\n",
            "    (1): Tanh()\n",
            "    (2): Linear(in_features=128, out_features=1, bias=True)\n",
            "  )\n",
            "  (classifier): Sequential(\n",
            "    (0): Linear(in_features=500, out_features=1, bias=True)\n",
            "    (1): Sigmoid()\n",
            "  )\n",
            ")\n"
          ],
          "name": "stdout"
        }
      ]
    },
    {
      "cell_type": "markdown",
      "metadata": {
        "id": "-UapbsvA2OrQ"
      },
      "source": [
        "## Learning rate study"
      ]
    },
    {
      "cell_type": "markdown",
      "metadata": {
        "id": "cGo798Rn2SWo"
      },
      "source": [
        "### lr=5e-8"
      ]
    },
    {
      "cell_type": "code",
      "metadata": {
        "id": "i_5Zcac22rpT",
        "colab": {
          "base_uri": "https://localhost:8080/",
          "height": 1000
        },
        "outputId": "20545ad2-511a-4d8f-b669-8f48f1bd6633"
      },
      "source": [
        "current_time = datetime.datetime.now().strftime(\"%m%d-%H%M\")\n",
        "print(current_time)\n",
        "log_dir = 'logs/learning_rate/' + current_time +'/Attention_Lenet/lr=5e-8'\n",
        "summary_writer = tf.summary.create_file_writer(log_dir)\n",
        "model = attention_lenet()\n",
        "model = model.to(cuda)\n",
        "optimizer = optim.Adam(model.parameters(), lr=5e-8, betas=(0.9, 0.999), weight_decay=0.001)\n",
        "\n",
        "return_model = train_attention(model, optimizer, train_dataloader, val_dataloader, summary_writer, num_epochs=30)\n",
        "del return_model"
      ],
      "execution_count": null,
      "outputs": [
        {
          "output_type": "stream",
          "text": [
            "0504-1018\n",
            "the number of training sample is 40, the number of valisation sample is 8\n",
            "Epoch 0/2\n",
            "----------\n"
          ],
          "name": "stdout"
        },
        {
          "output_type": "stream",
          "text": [
            "/usr/local/lib/python3.7/dist-packages/torch/utils/data/dataloader.py:477: UserWarning: This DataLoader will create 5 worker processes in total. Our suggested max number of worker in current system is 4, which is smaller than what this DataLoader is going to create. Please be aware that excessive worker creation might get DataLoader running slow or even freeze, lower the worker number to avoid potential slowness/freeze if necessary.\n",
            "  cpuset_checked))\n"
          ],
          "name": "stderr"
        },
        {
          "output_type": "stream",
          "text": [
            "train start\n",
            "train start\n",
            "train start\n",
            "train start\n",
            "train start\n",
            "train start\n",
            "train start\n",
            "train start\n",
            "train start\n",
            "train start\n",
            "train start\n",
            "train start\n",
            "train start\n",
            "train start\n",
            "train start\n",
            "train start\n",
            "train start\n",
            "train start\n",
            "train start\n",
            "train start\n",
            "train start\n",
            "train start\n",
            "train start\n",
            "train start\n",
            "train start\n",
            "train start\n",
            "train start\n",
            "train start\n",
            "train start\n",
            "train start\n",
            "train start\n",
            "train start\n",
            "train start\n",
            "train start\n",
            "train start\n",
            "train start\n",
            "train start\n",
            "train start\n",
            "train start\n",
            "train start\n",
            "End of phase: the true positve is 17.0, false positive is 10.0, true negative is 3.0, false negative is 10.0\n",
            "Roc calculation result: fpr is [0.         0.         0.         0.07692308 0.07692308 0.23076923\n",
            " 0.23076923 0.30769231 0.30769231 0.53846154 0.53846154 0.69230769\n",
            " 0.69230769 0.92307692 0.92307692 1.         1.        ], tpr is [0.         0.03703704 0.07407407 0.07407407 0.22222222 0.22222222\n",
            " 0.33333333 0.33333333 0.55555556 0.55555556 0.59259259 0.59259259\n",
            " 0.62962963 0.62962963 0.66666667 0.66666667 1.        ]\n",
            "fpr is [0.         0.         0.         0.07692308 0.07692308 0.23076923\n",
            " 0.23076923 0.30769231 0.30769231 0.53846154 0.53846154 0.69230769\n",
            " 0.69230769 0.92307692 0.92307692 1.         1.        ], type is float64, tpr is [0.         0.03703704 0.07407407 0.07407407 0.22222222 0.22222222\n",
            " 0.33333333 0.33333333 0.55555556 0.55555556 0.59259259 0.59259259\n",
            " 0.62962963 0.62962963 0.66666667 0.66666667 1.        ], type is <class 'numpy.ndarray'>\n"
          ],
          "name": "stdout"
        },
        {
          "output_type": "display_data",
          "data": {
            "image/png": "[encoded data removed]",
            "text/plain": [
              "<Figure size 432x288 with 1 Axes>"
            ]
          },
          "metadata": {
            "tags": [],
            "needs_background": "light"
          }
        },
        {
          "output_type": "stream",
          "text": [
            "/usr/local/lib/python3.7/dist-packages/torch/utils/data/dataloader.py:477: UserWarning: This DataLoader will create 5 worker processes in total. Our suggested max number of worker in current system is 4, which is smaller than what this DataLoader is going to create. Please be aware that excessive worker creation might get DataLoader running slow or even freeze, lower the worker number to avoid potential slowness/freeze if necessary.\n",
            "  cpuset_checked))\n"
          ],
          "name": "stderr"
        },
        {
          "output_type": "stream",
          "text": [
            "val start\n",
            "val start\n",
            "val start\n",
            "val start\n",
            "val start\n",
            "val start\n",
            "val start\n",
            "val start\n",
            "End of phase: the true positve is 5.0, false positive is 0.0, true negative is 0.0, false negative is 3.0\n",
            "Roc calculation result: fpr is [0.         0.         0.         0.66666667 0.66666667 1.        ], tpr is [0.  0.2 0.8 0.8 1.  1. ]\n",
            "fpr is [0.         0.         0.         0.66666667 0.66666667 1.        ], type is float64, tpr is [0.  0.2 0.8 0.8 1.  1. ], type is <class 'numpy.ndarray'>\n"
          ],
          "name": "stdout"
        },
        {
          "output_type": "display_data",
          "data": {
            "image/png": "[encoded data removed]",
            "text/plain": [
              "<Figure size 432x288 with 1 Axes>"
            ]
          },
          "metadata": {
            "tags": [],
            "needs_background": "light"
          }
        },
        {
          "output_type": "stream",
          "text": [
            "better epoch_phase_acc is 0.625\n",
            "\n",
            "Epoch 1/2\n",
            "----------\n"
          ],
          "name": "stdout"
        },
        {
          "output_type": "stream",
          "text": [
            "/usr/local/lib/python3.7/dist-packages/torch/utils/data/dataloader.py:477: UserWarning: This DataLoader will create 5 worker processes in total. Our suggested max number of worker in current system is 4, which is smaller than what this DataLoader is going to create. Please be aware that excessive worker creation might get DataLoader running slow or even freeze, lower the worker number to avoid potential slowness/freeze if necessary.\n",
            "  cpuset_checked))\n"
          ],
          "name": "stderr"
        },
        {
          "output_type": "stream",
          "text": [
            "train start\n",
            "train start\n",
            "train start\n",
            "train start\n",
            "train start\n",
            "train start\n",
            "train start\n",
            "train start\n",
            "train start\n",
            "train start\n",
            "train start\n",
            "train start\n",
            "train start\n",
            "train start\n",
            "train start\n",
            "train start\n",
            "train start\n",
            "train start\n",
            "train start\n",
            "train start\n",
            "train start\n",
            "train start\n",
            "train start\n",
            "train start\n",
            "train start\n",
            "train start\n",
            "train start\n",
            "train start\n",
            "train start\n",
            "train start\n",
            "train start\n",
            "train start\n",
            "train start\n",
            "train start\n",
            "train start\n",
            "train start\n",
            "train start\n",
            "train start\n",
            "train start\n",
            "train start\n",
            "End of phase: the true positve is 27.0, false positive is 0.0, true negative is 0.0, false negative is 13.0\n",
            "Roc calculation result: fpr is [0.         0.         0.         0.23076923 0.23076923 0.30769231\n",
            " 0.30769231 0.46153846 0.46153846 0.53846154 0.53846154 0.69230769\n",
            " 0.69230769 0.76923077 0.76923077 0.84615385 0.84615385 0.92307692\n",
            " 0.92307692 1.        ], tpr is [0.         0.03703704 0.51851852 0.51851852 0.55555556 0.55555556\n",
            " 0.62962963 0.62962963 0.66666667 0.66666667 0.7037037  0.7037037\n",
            " 0.77777778 0.77777778 0.81481481 0.81481481 0.92592593 0.92592593\n",
            " 1.         1.        ]\n",
            "fpr is [0.         0.         0.         0.23076923 0.23076923 0.30769231\n",
            " 0.30769231 0.46153846 0.46153846 0.53846154 0.53846154 0.69230769\n",
            " 0.69230769 0.76923077 0.76923077 0.84615385 0.84615385 0.92307692\n",
            " 0.92307692 1.        ], type is float64, tpr is [0.         0.03703704 0.51851852 0.51851852 0.55555556 0.55555556\n",
            " 0.62962963 0.62962963 0.66666667 0.66666667 0.7037037  0.7037037\n",
            " 0.77777778 0.77777778 0.81481481 0.81481481 0.92592593 0.92592593\n",
            " 1.         1.        ], type is <class 'numpy.ndarray'>\n"
          ],
          "name": "stdout"
        },
        {
          "output_type": "display_data",
          "data": {
            "image/png": "[encoded data removed]",
            "text/plain": [
              "<Figure size 432x288 with 1 Axes>"
            ]
          },
          "metadata": {
            "tags": [],
            "needs_background": "light"
          }
        },
        {
          "output_type": "stream",
          "text": [
            "/usr/local/lib/python3.7/dist-packages/torch/utils/data/dataloader.py:477: UserWarning: This DataLoader will create 5 worker processes in total. Our suggested max number of worker in current system is 4, which is smaller than what this DataLoader is going to create. Please be aware that excessive worker creation might get DataLoader running slow or even freeze, lower the worker number to avoid potential slowness/freeze if necessary.\n",
            "  cpuset_checked))\n"
          ],
          "name": "stderr"
        },
        {
          "output_type": "stream",
          "text": [
            "val start\n",
            "val start\n",
            "val start\n",
            "val start\n",
            "val start\n",
            "val start\n",
            "val start\n",
            "val start\n",
            "End of phase: the true positve is 5.0, false positive is 0.0, true negative is 0.0, false negative is 3.0\n",
            "Roc calculation result: fpr is [0.         0.         0.         0.66666667 0.66666667 1.        ], tpr is [0.  0.2 0.8 0.8 1.  1. ]\n",
            "fpr is [0.         0.         0.         0.66666667 0.66666667 1.        ], type is float64, tpr is [0.  0.2 0.8 0.8 1.  1. ], type is <class 'numpy.ndarray'>\n"
          ],
          "name": "stdout"
        },
        {
          "output_type": "display_data",
          "data": {
            "image/png": "[encoded data removed]",
            "text/plain": [
              "<Figure size 432x288 with 1 Axes>"
            ]
          },
          "metadata": {
            "tags": [],
            "needs_background": "light"
          }
        },
        {
          "output_type": "stream",
          "text": [
            "\n",
            "Training complete in 0m 42s\n",
            "Best val Acc: 0.625000\n"
          ],
          "name": "stdout"
        }
      ]
    },
    {
      "cell_type": "markdown",
      "metadata": {
        "id": "VxW8oUjF2YSJ"
      },
      "source": [
        "### lr=5e-7"
      ]
    },
    {
      "cell_type": "code",
      "metadata": {
        "id": "t_XJJZnd3oux"
      },
      "source": [
        "log_dir = 'logs/learning_rate/' + current_time +'/Attention_Lenet/lr=5e-7'\n",
        "summary_writer = tf.summary.create_file_writer(log_dir)\n",
        "model = attention_lenet()\n",
        "model = model.to(cuda)\n",
        "optimizer = optim.Adam(model.parameters(), lr=5e-7, betas=(0.9, 0.999), weight_decay=0.001)\n",
        "\n",
        "return_model = train_attention(model, optimizer, train_dataloader, val_dataloader, summary_writer, num_epochs=30)\n",
        "del return_model"
      ],
      "execution_count": null,
      "outputs": []
    },
    {
      "cell_type": "markdown",
      "metadata": {
        "id": "wV_sHdwU3r48"
      },
      "source": [
        "### lr=5e-6"
      ]
    },
    {
      "cell_type": "code",
      "metadata": {
        "id": "2srcfzAa3p33"
      },
      "source": [
        "log_dir = 'logs/learning_rate/' + current_time +'/Attention_Lenet/lr=5e-6'\n",
        "summary_writer = tf.summary.create_file_writer(log_dir)\n",
        "model = attention_lenet()\n",
        "model = model.to(cuda)\n",
        "optimizer = optim.Adam(model.parameters(), lr=5e-6, betas=(0.9, 0.999), weight_decay=0.001)\n",
        "\n",
        "return_model = train_attention(model, optimizer, train_dataloader, val_dataloader, summary_writer, num_epochs=30)\n",
        "del return_model"
      ],
      "execution_count": null,
      "outputs": []
    },
    {
      "cell_type": "markdown",
      "metadata": {
        "id": "9mdcGezt3xRj"
      },
      "source": [
        "### lr=5e-5"
      ]
    },
    {
      "cell_type": "code",
      "metadata": {
        "id": "VWn-1iB33qH-"
      },
      "source": [
        "log_dir = 'logs/learning_rate/' + current_time +'/Attention_Lenet/lr=5e-5'\n",
        "summary_writer = tf.summary.create_file_writer(log_dir)\n",
        "model = attention_lenet()\n",
        "model = model.to(cuda)\n",
        "optimizer = optim.Adam(model.parameters(), lr=5e-5, betas=(0.9, 0.999), weight_decay=0.001)\n",
        "\n",
        "return_model = train_attention(model, optimizer, train_dataloader, val_dataloader, summary_writer, num_epochs=30)\n",
        "del return_model"
      ],
      "execution_count": null,
      "outputs": []
    },
    {
      "cell_type": "markdown",
      "metadata": {
        "id": "7_KFVMYQ31sE"
      },
      "source": [
        "### lr=5e-3"
      ]
    },
    {
      "cell_type": "code",
      "metadata": {
        "id": "5TFgp3LL3qXr"
      },
      "source": [
        "log_dir = 'logs/learning_rate/' + current_time +'/Attention_Lenet/lr=5e-3'\n",
        "summary_writer = tf.summary.create_file_writer(log_dir)\n",
        "model = attention_lenet()\n",
        "model = model.to(cuda)\n",
        "optimizer = optim.Adam(model.parameters(), lr=5e-3, betas=(0.9, 0.999), weight_decay=0.001)\n",
        "\n",
        "return_model = train_attention(model, optimizer, train_dataloader, val_dataloader, summary_writer, num_epochs=30)\n",
        "del return_model"
      ],
      "execution_count": null,
      "outputs": []
    },
    {
      "cell_type": "markdown",
      "metadata": {
        "id": "v_riw0LC4Es2"
      },
      "source": [
        "## Tensorboard"
      ]
    },
    {
      "cell_type": "code",
      "metadata": {
        "id": "KqmjOXi4kuH1"
      },
      "source": [
        "# Load the TensorBoard notebook extension\n",
        "%load_ext tensorboard\n",
        "# %reload_ext tensorboard\n",
        "%tensorboard --logdir logs/learning_rate/0427-2004/"
      ],
      "execution_count": null,
      "outputs": []
    },
    {
      "cell_type": "code",
      "metadata": {
        "id": "uxzcxJLMcY1l"
      },
      "source": [
        ""
      ],
      "execution_count": null,
      "outputs": []
    },
    {
      "cell_type": "markdown",
      "metadata": {
        "id": "zzDFiZMgEsOo"
      },
      "source": [
        "## Full training"
      ]
    },
    {
      "cell_type": "code",
      "metadata": {
        "id": "YjrS8g2PEww9"
      },
      "source": [
        "current_time = datetime.datetime.now().strftime(\"%m%d-%H%M\")\n",
        "log_dir = 'logs/full_epochs/' + current_time +'/Attention_Lenet/lr=5e-5'\n",
        "summary_writer = tf.summary.create_file_writer(log_dir)\n",
        "model = attention_lenet()\n",
        "model = model.to(cuda)\n",
        "optimizer = optim.Adam(model.parameters(), lr=5e-5, betas=(0.9, 0.999), weight_decay=0.001)\n",
        "\n",
        "return_model = train_attention(model, optimizer, train_dataloader, val_dataloader, summary_writer, num_epochs=260)"
      ],
      "execution_count": null,
      "outputs": []
    },
    {
      "cell_type": "code",
      "metadata": {
        "id": "9qf0r8FaFNLe"
      },
      "source": [
        "# Load the TensorBoard notebook extension\n",
        "%load_ext tensorboard\n",
        "# %reload_ext tensorboard\n",
        "%tensorboard --logdir logs/full_epochs/0427-1810"
      ],
      "execution_count": null,
      "outputs": []
    },
    {
      "cell_type": "markdown",
      "metadata": {
        "id": "y915HLUnFRwX"
      },
      "source": [
        "## Test"
      ]
    },
    {
      "cell_type": "code",
      "metadata": {
        "id": "0n2U7B-iFZ7b"
      },
      "source": [
        "hyper_parameters = {\n",
        "    # Training Control Parameters\n",
        "    \n",
        "    # Dataset Parameters\n",
        "    'max_bag_size': 200,\n",
        "    'dataset_max_size': None,\n",
        "    'with_data_augmentation': False,\n",
        "    # 'with_tensorboard': not args.no_tensorboard,\n",
        "    'seed': 123,\n",
        "    # 'val_size': 0.15,\n",
        "    # 'test_size': 0,\n",
        "    'val_size': 0.02,\n",
        "    'test_size': 0.95,\n",
        "}\n",
        "\n",
        "logger = None\n",
        "input_width = 224\n",
        "train_dataset, val_dataset, test_dataset, whole_cases_ids, whole_indexes, whole_dataset = build_datasets(source_slides_folders=slides_folders,\n",
        "                                                              model_input_width=input_width,\n",
        "                                                              hyper_parameters=hyper_parameters,\n",
        "                                                              logger=logger)\n",
        "N_PROCESSES = 5\n",
        "def to_dataloader(dataset, for_training):\n",
        "    assert isinstance(dataset, Dataset) or isinstance(dataset, torch.utils.data.Subset)\n",
        "    return torch.utils.data.DataLoader(dataset, batch_size=1, shuffle=for_training, num_workers=N_PROCESSES)\n",
        "\n",
        "train_dataloader = to_dataloader(train_dataset, True)\n",
        "val_dataloader = to_dataloader(val_dataset, False) if len(val_dataset) else None\n",
        "test_dataloader = to_dataloader(test_dataset, False) if len(test_dataset) else None"
      ],
      "execution_count": null,
      "outputs": []
    },
    {
      "cell_type": "code",
      "metadata": {
        "id": "SZ6gM9ZyFaU1"
      },
      "source": [
        "train_carcinoma = 0\n",
        "train_non_carcinoma = 0\n",
        "try:\n",
        "  for batch_idx, (data, bag_label) in enumerate(train_dataloader):\n",
        "    if bag_label == torch.Tensor([0]):\n",
        "      train_carcinoma += 1\n",
        "    else:\n",
        "      train_non_carcinoma += 1\n",
        "  print(\"There are %d carcinoma and %d non-carcinoma samples in the training set\" %(train_carcinoma, train_non_carcinoma))\n",
        "except TypeError:\n",
        "  print(\"Nan\")\n",
        "\n",
        "val_carcinoma = 0\n",
        "val_non_carcinoma = 0\n",
        "try:\n",
        "  for batch_idx, (data, bag_label) in enumerate(val_dataloader):\n",
        "    if bag_label == torch.Tensor([0]):\n",
        "      val_carcinoma += 1\n",
        "    else:\n",
        "      val_non_carcinoma += 1\n",
        "  print(\"There are %d carcinoma and %d non-carcinoma samples in the validation set\" %(val_carcinoma, val_non_carcinoma))\n",
        "except TypeError:\n",
        "  print(\"Nan\")\n",
        "\n",
        "test_carcinoma = 0\n",
        "test_non_carcinoma = 0\n",
        "try:\n",
        "  for batch_idx, (data, bag_label) in enumerate(test_dataloader):\n",
        "    if bag_label == torch.Tensor([0]):\n",
        "      test_carcinoma += 1\n",
        "    else:\n",
        "      test_non_carcinoma += 1\n",
        "  print(\"There are %d carcinoma and %d non-carcinoma samples in the test set\" %(test_carcinoma, test_non_carcinoma))\n",
        "except TypeError:\n",
        "  print(\"Nan\")"
      ],
      "execution_count": null,
      "outputs": []
    },
    {
      "cell_type": "code",
      "metadata": {
        "id": "tV6gTJHAFaa1"
      },
      "source": [
        "final = test(return_model, optimizer, test_dataloader)"
      ],
      "execution_count": null,
      "outputs": []
    },
    {
      "cell_type": "markdown",
      "metadata": {
        "id": "TCSAL9QIkwRo"
      },
      "source": [
        "# 4.Attention-MIL (Resnet)"
      ]
    },
    {
      "cell_type": "markdown",
      "metadata": {
        "id": "fsvvwGMp0rR6"
      },
      "source": [
        "## Train and test function"
      ]
    },
    {
      "cell_type": "code",
      "metadata": {
        "id": "HBMbgd9xkxkd"
      },
      "source": [
        "def train_attention(model, optimizer, train_loader, val_loader, writer, num_epochs=25):\n",
        "    since = time.time()\n",
        "\n",
        "    best_model_wts = copy.deepcopy(model.state_dict())\n",
        "    best_acc = 0.0\n",
        "    train_size = train_loader.dataset.__len__()\n",
        "    val_size = val_loader.dataset.__len__()\n",
        "    print(f\"the number of training sample is {train_size}, the number of valisation sample is {val_size}\")\n",
        "    for epoch in range(num_epochs):\n",
        "        print('Epoch {}/{}'.format(epoch, num_epochs))\n",
        "        print('-' * 10)\n",
        "\n",
        "        expect_fpr = np.zeros((num_epochs, 1))\n",
        "        expect_tpr = np.zeros((num_epochs, 1))\n",
        "        roc_fpr = np.zeros((3, num_epochs))\n",
        "        roc_tpr = np.zeros((3, num_epochs))\n",
        "\n",
        "        # Each epoch has a training and validation phase\n",
        "        for phase in ['train', 'val']:\n",
        "            train_loss = 0.\n",
        "            train_error = 0.\n",
        "            if phase == 'train':\n",
        "                model.train()  # Set model to training mode\n",
        "                dataloader = train_loader\n",
        "            else:\n",
        "                model.eval()   # Set model to evaluate mode\n",
        "                dataloader = val_loader\n",
        "\n",
        "            # running_loss = 0.0\n",
        "            # running_corrects = 0\n",
        "            # dataset_size_count = 0\n",
        "\n",
        "            true_positve = 0.0\n",
        "            false_positive = 0.0\n",
        "            true_negative = 0.0\n",
        "            false_negative = 0.0\n",
        "            y_true = []\n",
        "            y_predict = []\n",
        "\n",
        "            # Iterate over data.\n",
        "            for batch_idx, (data, bag_label) in enumerate(dataloader):\n",
        "            # for inputs, labels in dataloader:\n",
        "                print(phase + \" start\")\n",
        "                # dataset_size_count += data.shape[0]\n",
        "                # # zero the parameter gradients\n",
        "                optimizer.zero_grad()\n",
        "\n",
        "                data, bag_label = data.cuda(), bag_label.cuda()\n",
        "                # data, bag_label = data.to(dev), bag_label.to(dev)\n",
        "                # forward\n",
        "                # track history if only in train\n",
        "                with torch.set_grad_enabled(phase == 'train'):\n",
        "\n",
        "                    # calculate loss and metrics\n",
        "                    # loss, _, Y_prob_roc = model.calculate_objective(data, bag_label)\n",
        "                    # train_loss += loss.data[0].cpu().float()\n",
        "\n",
        "                    # error, _ = model.calculate_classification_error(data, bag_label)\n",
        "                    # train_error += error\n",
        "\n",
        "                    loss, _, Y_prob_roc, error, _ = model.calculate_classification_error_and_objective(data, bag_label)\n",
        "                    # print(f\"loss is {loss}\")\n",
        "                    train_loss += torch.squeeze(loss.data[0]).cpu().float()\n",
        "                    # print(f\"trin loss is {train_loss}\")\n",
        "                    train_error += error\n",
        "\n",
        "                    if bag_label == 1:\n",
        "                      y_true.append(1)\n",
        "                      if error == 0.0:\n",
        "                        true_positve += 1\n",
        "                      elif error == 1.0:\n",
        "                        false_positive += 1\n",
        "                    elif bag_label == 0:\n",
        "                      y_true.append(0)\n",
        "                      if error == 0.0:\n",
        "                        true_negative += 1\n",
        "                      elif error == 1.0:\n",
        "                        false_negative += 1\n",
        "                    # print(Y_prob_roc)\n",
        "                    y_predict.append(Y_prob_roc)\n",
        "                    \n",
        "                    # print(\"free memory\")\n",
        "                    del data, bag_label\n",
        "                    \n",
        "                    # backward + optimize only if in training phase\n",
        "                    if phase == 'train':\n",
        "                        loss.backward()\n",
        "                        optimizer.step()\n",
        "\n",
        "            print(f\"End of phase: the true positve is {true_positve}, false positive is {false_positive}, true negative is {true_negative}, false negative is {false_negative}\")\n",
        "            # if phase == 'train':\n",
        "            #   try:\n",
        "            #     print(f\"Explicit result: fpr is {true_negative/(true_negative + false_positive)}, tpr is {true_positve/(true_positve + false_negative)}\")\n",
        "            #     expect_fpr[epoch] = (true_negative/(true_negative + false_positive))\n",
        "            #     expect_tpr[epoch] = (true_positve/(true_positve + false_negative))\n",
        "            #     print(f\"y_true is {y_true}, y_predict is {y_predict}\")\n",
        "            #   except ZeroDivisionError:\n",
        "            #     print(\"zero devision occurs\")\n",
        "            \n",
        "            fpr, tpr, _ = roc_curve(y_true, y_predict)\n",
        "            print(f\"Roc calculation result: fpr is {fpr}, tpr is {tpr}\")\n",
        "            # roc_fpr[:, epoch] = fpr\n",
        "            # roc_tpr[:, epoch] = tpr\n",
        "            roc_auc = auc(fpr, tpr)\n",
        "            plt.figure()\n",
        "            lw = 2\n",
        "            plt.plot(fpr, tpr, color='darkorange',lw=lw, label='ROC curve (area = %0.2f)' % roc_auc)\n",
        "            plt.plot([0, 1], [0, 1], color='navy', lw=lw, linestyle='--')\n",
        "            plt.xlim([0.0, 1.0])\n",
        "            plt.ylim([0.0, 1.05])\n",
        "            plt.xlabel('False Positive Rate')\n",
        "            plt.ylabel('True Positive Rate')\n",
        "            plt.title('Receiver operating characteristic example')\n",
        "            plt.legend(loc=\"lower right\")\n",
        "            plt.show()\n",
        "            #   # if phase == 'train':\n",
        "            #   #     scheduler.step()\n",
        "\n",
        "            # dataset_sizes = dataloader.dataset.__len__()\n",
        "            # epoch_loss = running_loss / dataset_sizes\n",
        "            # # epoch_acc = running_corrects.double() / dataset_sizes\n",
        "            # epoch_acc = running_corrects / dataset_size_count\n",
        "            \n",
        "            # # print('Phase {}'.format(phase))\n",
        "            # # print(\"Loss: \")\n",
        "            # # print(train_loss)\n",
        "            # # print(\"Error: \")\n",
        "            # # print(train_error)\n",
        "\n",
        "            # # print('{} Loss: {:.4f} error: {:.4f} by Size: {:.4f}'.format(\n",
        "            # #     phase, train_loss, train_error, dataset_sizes))\n",
        "            epoch_phase_acc = 1 - (train_error / dataloader.dataset.__len__())\n",
        "\n",
        "            # deep copy the model\n",
        "            if phase == 'val':\n",
        "              epoch_phase_acc = 1 - (train_error / dataloader.dataset.__len__())\n",
        "              if epoch_phase_acc > best_acc:\n",
        "                print(f\"better epoch_phase_acc is {epoch_phase_acc}\")\n",
        "                best_acc = epoch_phase_acc\n",
        "                best_model_wts = copy.deepcopy(model.state_dict())\n",
        "            # print(f\"train loss before {train_loss}\")\n",
        "            # train_loss = torch.squeeze(train_loss)\n",
        "            # print(f\"train loss after {train_loss}\")\n",
        "            with writer.as_default():\n",
        "              if phase == 'val':\n",
        "                tf.summary.scalar('Loss/Validation', train_loss, step=epoch)\n",
        "                tf.summary.scalar('Error/Validation', train_error, step=epoch)\n",
        "              else:\n",
        "                tf.summary.scalar('Loss/Train', train_loss, step=epoch)\n",
        "                tf.summary.scalar('Error/Train', train_error, step=epoch)\n",
        "\n",
        "        print()\n",
        "\n",
        "    time_elapsed = time.time() - since\n",
        "    print('Training complete in {:.0f}m {:.0f}s'.format(\n",
        "        time_elapsed // 60, time_elapsed % 60))\n",
        "    print('Best val Acc: {:4f}'.format(best_acc))\n",
        "    writer.close()\n",
        "    # load best model weights\n",
        "    model.load_state_dict(best_model_wts)\n",
        "    \n",
        "    return model"
      ],
      "execution_count": null,
      "outputs": []
    },
    {
      "cell_type": "code",
      "metadata": {
        "id": "f7JXGIhc0e91"
      },
      "source": [
        "def test(model, optimizer, test_loader):\n",
        "    since = time.time()\n",
        "    test_size = test_loader.dataset.__len__()\n",
        "    print(f\"the number of test sample is {test_size}\")\n",
        "\n",
        "\n",
        "    # Test phase\n",
        "\n",
        "    train_error = 0.0\n",
        "    true_positve = 0.0\n",
        "    false_positive = 0.0\n",
        "    true_negative = 0.0\n",
        "    false_negative = 0.0\n",
        "    y_true = []\n",
        "    y_predict = []\n",
        "    for batch_idx, (data, bag_label) in enumerate(test_loader):\n",
        "        print(\"test start\")\n",
        "        optimizer.zero_grad()\n",
        "        data, bag_label = data.cuda(), bag_label.cuda()\n",
        "        with torch.no_grad():\n",
        "            loss, _, Y_prob_roc, error, _ = model.calculate_classification_error_and_objective(data, bag_label)\n",
        "            train_error += error\n",
        "            if bag_label == 1:\n",
        "              y_true.append(1)\n",
        "              if error == 0.0:\n",
        "                true_positve += 1\n",
        "              elif error == 1.0:\n",
        "                false_positive += 1\n",
        "            elif bag_label == 0:\n",
        "              y_true.append(0)\n",
        "              if error == 0.0:\n",
        "                true_negative += 1\n",
        "              elif error == 1.0:\n",
        "                false_negative += 1\n",
        "            # print(Y_prob_roc)\n",
        "            y_predict.append(Y_prob_roc)\n",
        "\n",
        "            # print(\"free memory\")\n",
        "            del data, bag_label\n",
        "    print(f\"End of phase: the true positve is {true_positve}, false positive is {false_positive}, true negative is {true_negative}, false negative is {false_negative}\")\n",
        "    fpr, tpr, _ = roc_curve(y_true, y_predict)\n",
        "    print(f\"Roc calculation result: fpr is {fpr}, tpr is {tpr}\")\n",
        "    # roc_fpr[:, epoch] = fpr\n",
        "    # roc_tpr[:, epoch] = tpr\n",
        "    roc_auc = auc(fpr, tpr)\n",
        "    plt.figure()\n",
        "    lw = 2\n",
        "    plt.plot(fpr, tpr, color='darkorange',lw=lw, label='ROC curve (area = %0.2f)' % roc_auc)\n",
        "    plt.plot([0, 1], [0, 1], color='navy', lw=lw, linestyle='--')\n",
        "    plt.xlim([0.0, 1.0])\n",
        "    plt.ylim([0.0, 1.05])\n",
        "    plt.xlabel('False Positive Rate')\n",
        "    plt.ylabel('True Positive Rate')\n",
        "    plt.title('Receiver operating characteristic example')\n",
        "    plt.legend(loc=\"lower right\")\n",
        "    plt.show()\n",
        "    test_acc = 1 - (train_error / test_loader.dataset.__len__())\n",
        "\n",
        "    time_elapsed = time.time() - since\n",
        "    print('Test complete in {:.0f}m {:.0f}s'.format(\n",
        "        time_elapsed // 60, time_elapsed % 60))\n",
        "    print('Test Acc: {:4f}'.format(test_acc))\n",
        "    # load best model weights\n",
        "    # model.load_state_dict(best_model_wts)\n",
        "    \n",
        "    return model"
      ],
      "execution_count": null,
      "outputs": []
    },
    {
      "cell_type": "markdown",
      "metadata": {
        "id": "4bE8SK9vk2o7"
      },
      "source": [
        "## Dataset split"
      ]
    },
    {
      "cell_type": "code",
      "metadata": {
        "id": "7mWxeOQtk4K9"
      },
      "source": [
        "hyper_parameters = {\n",
        "    # Training Control Parameters\n",
        "    \n",
        "    # Dataset Parameters\n",
        "    'max_bag_size': 200,\n",
        "    'dataset_max_size': None,\n",
        "    'with_data_augmentation': False,\n",
        "    # 'with_tensorboard': not args.no_tensorboard,\n",
        "    'seed': 123,\n",
        "    'val_size': 0.15,\n",
        "    'test_size': 0,\n",
        "    # 'val_size': 0.02,\n",
        "    # 'test_size': 0.95,\n",
        "}\n",
        "\n",
        "logger = None\n",
        "input_width = 224\n",
        "train_dataset, val_dataset, test_dataset, whole_cases_ids, whole_indexes, whole_dataset = build_datasets(source_slides_folders=slides_folders,\n",
        "                                                              model_input_width=input_width,\n",
        "                                                              hyper_parameters=hyper_parameters,\n",
        "                                                              logger=logger)\n",
        "N_PROCESSES = 5\n",
        "def to_dataloader(dataset, for_training):\n",
        "    assert isinstance(dataset, Dataset) or isinstance(dataset, torch.utils.data.Subset)\n",
        "    return torch.utils.data.DataLoader(dataset, batch_size=1, shuffle=for_training, num_workers=N_PROCESSES)\n",
        "\n",
        "train_dataloader = to_dataloader(train_dataset, True)\n",
        "val_dataloader = to_dataloader(val_dataset, False) if len(val_dataset) else None\n",
        "test_dataloader = to_dataloader(test_dataset, False) if len(test_dataset) else None"
      ],
      "execution_count": null,
      "outputs": []
    },
    {
      "cell_type": "code",
      "metadata": {
        "id": "Gkvue1Mzk5z6"
      },
      "source": [
        "train_carcinoma = 0\n",
        "train_non_carcinoma = 0\n",
        "try:\n",
        "  for batch_idx, (data, bag_label) in enumerate(train_dataloader):\n",
        "    if bag_label == torch.Tensor([0]):\n",
        "      train_carcinoma += 1\n",
        "    else:\n",
        "      train_non_carcinoma += 1\n",
        "  print(\"There are %d carcinoma and %d non-carcinoma samples in the training set\" %(train_carcinoma, train_non_carcinoma))\n",
        "except TypeError:\n",
        "  print(\"Nan\")\n",
        "\n",
        "val_carcinoma = 0\n",
        "val_non_carcinoma = 0\n",
        "try:\n",
        "  for batch_idx, (data, bag_label) in enumerate(val_dataloader):\n",
        "    if bag_label == torch.Tensor([0]):\n",
        "      val_carcinoma += 1\n",
        "    else:\n",
        "      val_non_carcinoma += 1\n",
        "  print(\"There are %d carcinoma and %d non-carcinoma samples in the validation set\" %(val_carcinoma, val_non_carcinoma))\n",
        "except TypeError:\n",
        "  print(\"Nan\")\n",
        "\n",
        "test_carcinoma = 0\n",
        "test_non_carcinoma = 0\n",
        "try:\n",
        "  for batch_idx, (data, bag_label) in enumerate(test_dataloader):\n",
        "    if bag_label == torch.Tensor([0]):\n",
        "      test_carcinoma += 1\n",
        "    else:\n",
        "      test_non_carcinoma += 1\n",
        "  print(\"There are %d carcinoma and %d non-carcinoma samples in the test set\" %(test_carcinoma, test_non_carcinoma))\n",
        "except TypeError:\n",
        "  print(\"Nan\")"
      ],
      "execution_count": null,
      "outputs": []
    },
    {
      "cell_type": "markdown",
      "metadata": {
        "id": "3qQFhrUgk9Yr"
      },
      "source": [
        "## Model"
      ]
    },
    {
      "cell_type": "code",
      "metadata": {
        "id": "a7I-YwZzk_Ut"
      },
      "source": [
        "class attention_resnet(nn.Module):\n",
        "    def __init__(self,output_layer = None):\n",
        "        super().__init__()\n",
        "        self.pretrained = models.resnet18(pretrained=True)\n",
        "        self.output_layer = output_layer\n",
        "        self.layers = list(self.pretrained._modules.keys())\n",
        "        self.layer_count = 0\n",
        "        for l in self.layers:\n",
        "            if l != self.output_layer:\n",
        "                self.layer_count += 1\n",
        "            else:\n",
        "                break\n",
        "        for i in range(1,len(self.layers)-self.layer_count):\n",
        "            self.dummy_var = self.pretrained._modules.pop(self.layers[-i])\n",
        "        \n",
        "        self.net = nn.Sequential(self.pretrained._modules)\n",
        "        self.pretrained = None\n",
        "\n",
        "        self.L = 500\n",
        "        self.D = 128\n",
        "        self.K = 1\n",
        "\n",
        "# N, 512, 7, 7\n",
        "\n",
        "        self.feature_extractor_attention = nn.Sequential(\n",
        "            nn.Linear(512 * 7 * 7, self.L),\n",
        "            nn.ReLU(),\n",
        "        )\n",
        "\n",
        "        self.attention = nn.Sequential(\n",
        "            nn.Linear(self.L, self.D),\n",
        "            nn.Tanh(),\n",
        "            nn.Linear(self.D, self.K)\n",
        "        )\n",
        "\n",
        "        self.classifier = nn.Sequential(\n",
        "            nn.Linear(self.L*self.K, 1),\n",
        "            nn.Sigmoid()\n",
        "        )\n",
        "\n",
        "    def forward(self,x):\n",
        "        x = x.squeeze(0)\n",
        "        x = self.net(x)\n",
        "        # print(\"x size 1\")\n",
        "        # print(x.size())\n",
        "        x = x.view(-1, 512 * 7 * 7)\n",
        "\n",
        "        H = self.feature_extractor_attention(x)\n",
        "\n",
        "        A = self.attention(H)  # NxK\n",
        "        A = torch.transpose(A, 1, 0)  # KxN\n",
        "        A = F.softmax(A, dim=1)  # softmax over N\n",
        "\n",
        "        M = torch.mm(A, H)  # KxL\n",
        "\n",
        "        Y_prob = self.classifier(M)\n",
        "        Y_hat = torch.ge(Y_prob, 0.5).float()\n",
        "\n",
        "        return Y_prob, Y_hat, A\n",
        "    \n",
        "    # AUXILIARY METHODS\n",
        "    def calculate_classification_error(self, X, Y):\n",
        "        Y = Y.float()\n",
        "        _, Y_hat, _ = self.forward(X)\n",
        "        error = 1. - Y_hat.eq(Y).cpu().float().mean().item()\n",
        "\n",
        "        return error, Y_hat\n",
        "\n",
        "    def calculate_objective(self, X, Y):\n",
        "        Y = Y.float()\n",
        "        Y_prob, _, A = self.forward(X)\n",
        "        Y_prob = torch.clamp(Y_prob, min=1e-5, max=1. - 1e-5)\n",
        "        neg_log_likelihood = -1. * (Y * torch.log(Y_prob) + (1. - Y) * torch.log(1. - Y_prob))  # negative log bernoulli\n",
        "\n",
        "        return neg_log_likelihood, A\n",
        "    \n",
        "    # AUXILIARY METHODS\n",
        "    def calculate_classification_error_and_objective(self, X, Y):\n",
        "        Y = Y.float()\n",
        "        Y_prob_roc, Y_hat, A = self.forward(X)\n",
        "        error = 1. - Y_hat.eq(Y).cpu().float().mean().item()\n",
        "        Y_prob = torch.clamp(Y_prob_roc, min=1e-5, max=1. - 1e-5)\n",
        "        neg_log_likelihood = -1. * (Y * torch.log(Y_prob) + (1. - Y) * torch.log(1. - Y_prob))  # negative log bernoulli\n",
        "\n",
        "\n",
        "        return neg_log_likelihood, A, Y_prob_roc.detach().cpu().float(), error, Y_hat"
      ],
      "execution_count": null,
      "outputs": []
    },
    {
      "cell_type": "code",
      "metadata": {
        "id": "H0dD0n2klVQ3",
        "colab": {
          "base_uri": "https://localhost:8080/",
          "height": 1000,
          "referenced_widgets": [
            "95a1ee7a33cd444782da951732c6927d",
            "a42d54b74e00438d9bea1281fe9d640d",
            "939c34518f744a55a8cb788dd8641b4a",
            "fc3ab5934ebb4807bb5aced6628c1913",
            "8468866baa884b89b7db49a6c6b4168e",
            "ef8ec5baaa1e4c389112ff792948d517",
            "42de22943ad14ee8b4c30c02be0f7468",
            "3f426bd794fb497b85ab377293291bbb"
          ]
        },
        "outputId": "391f5109-cd73-4b78-c8c2-02e6b4fe7c5a"
      },
      "source": [
        "model = attention_resnet(output_layer = 'layer4')\n",
        "cuda = torch.device('cuda:0')\n",
        "model = model.to(cuda)\n",
        "summary(model,input_size=(3, 224, 224))\n"
      ],
      "execution_count": null,
      "outputs": [
        {
          "output_type": "stream",
          "text": [
            "Downloading: \"https://download.pytorch.org/models/resnet18-5c106cde.pth\" to /root/.cache/torch/hub/checkpoints/resnet18-5c106cde.pth\n"
          ],
          "name": "stderr"
        },
        {
          "output_type": "display_data",
          "data": {
            "application/vnd.jupyter.widget-view+json": {
              "model_id": "95a1ee7a33cd444782da951732c6927d",
              "version_minor": 0,
              "version_major": 2
            },
            "text/plain": [
              "HBox(children=(FloatProgress(value=0.0, max=46827520.0), HTML(value='')))"
            ]
          },
          "metadata": {
            "tags": []
          }
        },
        {
          "output_type": "stream",
          "text": [
            "\n",
            "----------------------------------------------------------------\n",
            "        Layer (type)               Output Shape         Param #\n",
            "================================================================\n",
            "            Conv2d-1         [-1, 64, 112, 112]           9,408\n",
            "       BatchNorm2d-2         [-1, 64, 112, 112]             128\n",
            "              ReLU-3         [-1, 64, 112, 112]               0\n",
            "         MaxPool2d-4           [-1, 64, 56, 56]               0\n",
            "            Conv2d-5           [-1, 64, 56, 56]          36,864\n",
            "       BatchNorm2d-6           [-1, 64, 56, 56]             128\n",
            "              ReLU-7           [-1, 64, 56, 56]               0\n",
            "            Conv2d-8           [-1, 64, 56, 56]          36,864\n",
            "       BatchNorm2d-9           [-1, 64, 56, 56]             128\n",
            "             ReLU-10           [-1, 64, 56, 56]               0\n",
            "       BasicBlock-11           [-1, 64, 56, 56]               0\n",
            "           Conv2d-12           [-1, 64, 56, 56]          36,864\n",
            "      BatchNorm2d-13           [-1, 64, 56, 56]             128\n",
            "             ReLU-14           [-1, 64, 56, 56]               0\n",
            "           Conv2d-15           [-1, 64, 56, 56]          36,864\n",
            "      BatchNorm2d-16           [-1, 64, 56, 56]             128\n",
            "             ReLU-17           [-1, 64, 56, 56]               0\n",
            "       BasicBlock-18           [-1, 64, 56, 56]               0\n",
            "           Conv2d-19          [-1, 128, 28, 28]          73,728\n",
            "      BatchNorm2d-20          [-1, 128, 28, 28]             256\n",
            "             ReLU-21          [-1, 128, 28, 28]               0\n",
            "           Conv2d-22          [-1, 128, 28, 28]         147,456\n",
            "      BatchNorm2d-23          [-1, 128, 28, 28]             256\n",
            "           Conv2d-24          [-1, 128, 28, 28]           8,192\n",
            "      BatchNorm2d-25          [-1, 128, 28, 28]             256\n",
            "             ReLU-26          [-1, 128, 28, 28]               0\n",
            "       BasicBlock-27          [-1, 128, 28, 28]               0\n",
            "           Conv2d-28          [-1, 128, 28, 28]         147,456\n",
            "      BatchNorm2d-29          [-1, 128, 28, 28]             256\n",
            "             ReLU-30          [-1, 128, 28, 28]               0\n",
            "           Conv2d-31          [-1, 128, 28, 28]         147,456\n",
            "      BatchNorm2d-32          [-1, 128, 28, 28]             256\n",
            "             ReLU-33          [-1, 128, 28, 28]               0\n",
            "       BasicBlock-34          [-1, 128, 28, 28]               0\n",
            "           Conv2d-35          [-1, 256, 14, 14]         294,912\n",
            "      BatchNorm2d-36          [-1, 256, 14, 14]             512\n",
            "             ReLU-37          [-1, 256, 14, 14]               0\n",
            "           Conv2d-38          [-1, 256, 14, 14]         589,824\n",
            "      BatchNorm2d-39          [-1, 256, 14, 14]             512\n",
            "           Conv2d-40          [-1, 256, 14, 14]          32,768\n",
            "      BatchNorm2d-41          [-1, 256, 14, 14]             512\n",
            "             ReLU-42          [-1, 256, 14, 14]               0\n",
            "       BasicBlock-43          [-1, 256, 14, 14]               0\n",
            "           Conv2d-44          [-1, 256, 14, 14]         589,824\n",
            "      BatchNorm2d-45          [-1, 256, 14, 14]             512\n",
            "             ReLU-46          [-1, 256, 14, 14]               0\n",
            "           Conv2d-47          [-1, 256, 14, 14]         589,824\n",
            "      BatchNorm2d-48          [-1, 256, 14, 14]             512\n",
            "             ReLU-49          [-1, 256, 14, 14]               0\n",
            "       BasicBlock-50          [-1, 256, 14, 14]               0\n",
            "           Conv2d-51            [-1, 512, 7, 7]       1,179,648\n",
            "      BatchNorm2d-52            [-1, 512, 7, 7]           1,024\n",
            "             ReLU-53            [-1, 512, 7, 7]               0\n",
            "           Conv2d-54            [-1, 512, 7, 7]       2,359,296\n",
            "      BatchNorm2d-55            [-1, 512, 7, 7]           1,024\n",
            "           Conv2d-56            [-1, 512, 7, 7]         131,072\n",
            "      BatchNorm2d-57            [-1, 512, 7, 7]           1,024\n",
            "             ReLU-58            [-1, 512, 7, 7]               0\n",
            "       BasicBlock-59            [-1, 512, 7, 7]               0\n",
            "           Conv2d-60            [-1, 512, 7, 7]       2,359,296\n",
            "      BatchNorm2d-61            [-1, 512, 7, 7]           1,024\n",
            "             ReLU-62            [-1, 512, 7, 7]               0\n",
            "           Conv2d-63            [-1, 512, 7, 7]       2,359,296\n",
            "      BatchNorm2d-64            [-1, 512, 7, 7]           1,024\n",
            "             ReLU-65            [-1, 512, 7, 7]               0\n",
            "       BasicBlock-66            [-1, 512, 7, 7]               0\n",
            "           Linear-67                  [-1, 500]      12,544,500\n",
            "             ReLU-68                  [-1, 500]               0\n",
            "           Linear-69                  [-1, 128]          64,128\n",
            "             Tanh-70                  [-1, 128]               0\n",
            "           Linear-71                    [-1, 1]             129\n",
            "           Linear-72                    [-1, 1]             501\n",
            "          Sigmoid-73                    [-1, 1]               0\n",
            "================================================================\n",
            "Total params: 23,785,770\n",
            "Trainable params: 23,785,770\n",
            "Non-trainable params: 0\n",
            "----------------------------------------------------------------\n",
            "Input size (MB): 0.57\n",
            "Forward/backward pass size (MB): 62.79\n",
            "Params size (MB): 90.74\n",
            "Estimated Total Size (MB): 154.10\n",
            "----------------------------------------------------------------\n"
          ],
          "name": "stdout"
        }
      ]
    },
    {
      "cell_type": "code",
      "metadata": {
        "id": "pRwXJoajqB4B"
      },
      "source": [
        ""
      ],
      "execution_count": null,
      "outputs": []
    },
    {
      "cell_type": "code",
      "metadata": {
        "id": "z390rbNAlZFh",
        "colab": {
          "base_uri": "https://localhost:8080/"
        },
        "outputId": "d1b36fdf-380b-4425-8079-fd8673d4fa63"
      },
      "source": [
        "print(model)\n",
        "del model"
      ],
      "execution_count": null,
      "outputs": [
        {
          "output_type": "stream",
          "text": [
            "attention_resnet(\n",
            "  (pretrained): None\n",
            "  (dummy_var): AdaptiveAvgPool2d(output_size=(1, 1))\n",
            "  (net): Sequential(\n",
            "    (conv1): Conv2d(3, 64, kernel_size=(7, 7), stride=(2, 2), padding=(3, 3), bias=False)\n",
            "    (bn1): BatchNorm2d(64, eps=1e-05, momentum=0.1, affine=True, track_running_stats=True)\n",
            "    (relu): ReLU(inplace=True)\n",
            "    (maxpool): MaxPool2d(kernel_size=3, stride=2, padding=1, dilation=1, ceil_mode=False)\n",
            "    (layer1): Sequential(\n",
            "      (0): BasicBlock(\n",
            "        (conv1): Conv2d(64, 64, kernel_size=(3, 3), stride=(1, 1), padding=(1, 1), bias=False)\n",
            "        (bn1): BatchNorm2d(64, eps=1e-05, momentum=0.1, affine=True, track_running_stats=True)\n",
            "        (relu): ReLU(inplace=True)\n",
            "        (conv2): Conv2d(64, 64, kernel_size=(3, 3), stride=(1, 1), padding=(1, 1), bias=False)\n",
            "        (bn2): BatchNorm2d(64, eps=1e-05, momentum=0.1, affine=True, track_running_stats=True)\n",
            "      )\n",
            "      (1): BasicBlock(\n",
            "        (conv1): Conv2d(64, 64, kernel_size=(3, 3), stride=(1, 1), padding=(1, 1), bias=False)\n",
            "        (bn1): BatchNorm2d(64, eps=1e-05, momentum=0.1, affine=True, track_running_stats=True)\n",
            "        (relu): ReLU(inplace=True)\n",
            "        (conv2): Conv2d(64, 64, kernel_size=(3, 3), stride=(1, 1), padding=(1, 1), bias=False)\n",
            "        (bn2): BatchNorm2d(64, eps=1e-05, momentum=0.1, affine=True, track_running_stats=True)\n",
            "      )\n",
            "    )\n",
            "    (layer2): Sequential(\n",
            "      (0): BasicBlock(\n",
            "        (conv1): Conv2d(64, 128, kernel_size=(3, 3), stride=(2, 2), padding=(1, 1), bias=False)\n",
            "        (bn1): BatchNorm2d(128, eps=1e-05, momentum=0.1, affine=True, track_running_stats=True)\n",
            "        (relu): ReLU(inplace=True)\n",
            "        (conv2): Conv2d(128, 128, kernel_size=(3, 3), stride=(1, 1), padding=(1, 1), bias=False)\n",
            "        (bn2): BatchNorm2d(128, eps=1e-05, momentum=0.1, affine=True, track_running_stats=True)\n",
            "        (downsample): Sequential(\n",
            "          (0): Conv2d(64, 128, kernel_size=(1, 1), stride=(2, 2), bias=False)\n",
            "          (1): BatchNorm2d(128, eps=1e-05, momentum=0.1, affine=True, track_running_stats=True)\n",
            "        )\n",
            "      )\n",
            "      (1): BasicBlock(\n",
            "        (conv1): Conv2d(128, 128, kernel_size=(3, 3), stride=(1, 1), padding=(1, 1), bias=False)\n",
            "        (bn1): BatchNorm2d(128, eps=1e-05, momentum=0.1, affine=True, track_running_stats=True)\n",
            "        (relu): ReLU(inplace=True)\n",
            "        (conv2): Conv2d(128, 128, kernel_size=(3, 3), stride=(1, 1), padding=(1, 1), bias=False)\n",
            "        (bn2): BatchNorm2d(128, eps=1e-05, momentum=0.1, affine=True, track_running_stats=True)\n",
            "      )\n",
            "    )\n",
            "    (layer3): Sequential(\n",
            "      (0): BasicBlock(\n",
            "        (conv1): Conv2d(128, 256, kernel_size=(3, 3), stride=(2, 2), padding=(1, 1), bias=False)\n",
            "        (bn1): BatchNorm2d(256, eps=1e-05, momentum=0.1, affine=True, track_running_stats=True)\n",
            "        (relu): ReLU(inplace=True)\n",
            "        (conv2): Conv2d(256, 256, kernel_size=(3, 3), stride=(1, 1), padding=(1, 1), bias=False)\n",
            "        (bn2): BatchNorm2d(256, eps=1e-05, momentum=0.1, affine=True, track_running_stats=True)\n",
            "        (downsample): Sequential(\n",
            "          (0): Conv2d(128, 256, kernel_size=(1, 1), stride=(2, 2), bias=False)\n",
            "          (1): BatchNorm2d(256, eps=1e-05, momentum=0.1, affine=True, track_running_stats=True)\n",
            "        )\n",
            "      )\n",
            "      (1): BasicBlock(\n",
            "        (conv1): Conv2d(256, 256, kernel_size=(3, 3), stride=(1, 1), padding=(1, 1), bias=False)\n",
            "        (bn1): BatchNorm2d(256, eps=1e-05, momentum=0.1, affine=True, track_running_stats=True)\n",
            "        (relu): ReLU(inplace=True)\n",
            "        (conv2): Conv2d(256, 256, kernel_size=(3, 3), stride=(1, 1), padding=(1, 1), bias=False)\n",
            "        (bn2): BatchNorm2d(256, eps=1e-05, momentum=0.1, affine=True, track_running_stats=True)\n",
            "      )\n",
            "    )\n",
            "    (layer4): Sequential(\n",
            "      (0): BasicBlock(\n",
            "        (conv1): Conv2d(256, 512, kernel_size=(3, 3), stride=(2, 2), padding=(1, 1), bias=False)\n",
            "        (bn1): BatchNorm2d(512, eps=1e-05, momentum=0.1, affine=True, track_running_stats=True)\n",
            "        (relu): ReLU(inplace=True)\n",
            "        (conv2): Conv2d(512, 512, kernel_size=(3, 3), stride=(1, 1), padding=(1, 1), bias=False)\n",
            "        (bn2): BatchNorm2d(512, eps=1e-05, momentum=0.1, affine=True, track_running_stats=True)\n",
            "        (downsample): Sequential(\n",
            "          (0): Conv2d(256, 512, kernel_size=(1, 1), stride=(2, 2), bias=False)\n",
            "          (1): BatchNorm2d(512, eps=1e-05, momentum=0.1, affine=True, track_running_stats=True)\n",
            "        )\n",
            "      )\n",
            "      (1): BasicBlock(\n",
            "        (conv1): Conv2d(512, 512, kernel_size=(3, 3), stride=(1, 1), padding=(1, 1), bias=False)\n",
            "        (bn1): BatchNorm2d(512, eps=1e-05, momentum=0.1, affine=True, track_running_stats=True)\n",
            "        (relu): ReLU(inplace=True)\n",
            "        (conv2): Conv2d(512, 512, kernel_size=(3, 3), stride=(1, 1), padding=(1, 1), bias=False)\n",
            "        (bn2): BatchNorm2d(512, eps=1e-05, momentum=0.1, affine=True, track_running_stats=True)\n",
            "      )\n",
            "    )\n",
            "  )\n",
            "  (feature_extractor_attention): Sequential(\n",
            "    (0): Linear(in_features=25088, out_features=500, bias=True)\n",
            "    (1): ReLU()\n",
            "  )\n",
            "  (attention): Sequential(\n",
            "    (0): Linear(in_features=500, out_features=128, bias=True)\n",
            "    (1): Tanh()\n",
            "    (2): Linear(in_features=128, out_features=1, bias=True)\n",
            "  )\n",
            "  (classifier): Sequential(\n",
            "    (0): Linear(in_features=500, out_features=1, bias=True)\n",
            "    (1): Sigmoid()\n",
            "  )\n",
            ")\n"
          ],
          "name": "stdout"
        }
      ]
    },
    {
      "cell_type": "markdown",
      "metadata": {
        "id": "jLBZ7V43ldyf"
      },
      "source": [
        "## Learning rate study"
      ]
    },
    {
      "cell_type": "markdown",
      "metadata": {
        "id": "i718xNcJlgYF"
      },
      "source": [
        "### lr=5e-8"
      ]
    },
    {
      "cell_type": "code",
      "metadata": {
        "id": "fPS2wOz_la-b"
      },
      "source": [
        "current_time = datetime.datetime.now().strftime(\"%m%d-%H%M\")\n",
        "print(current_time)\n",
        "log_dir = 'logs/learning_rate/' + current_time +'/Attention_Resnet/lr=5e-8'\n",
        "\n",
        "summary_writer = tf.summary.create_file_writer(log_dir)\n",
        "model = attention_resnet(output_layer = 'layer4')\n",
        "model = model.to(cuda)\n",
        "optimizer = optim.Adam(model.parameters(), lr=5e-8, betas=(0.9, 0.999), weight_decay=0.001)\n",
        "\n",
        "return_model = train_attention(model, optimizer, train_dataloader, val_dataloader, summary_writer, num_epochs=30)\n",
        "del return_model"
      ],
      "execution_count": null,
      "outputs": []
    },
    {
      "cell_type": "markdown",
      "metadata": {
        "id": "a37QI4aelpPx"
      },
      "source": [
        "### lr=5e-7"
      ]
    },
    {
      "cell_type": "code",
      "metadata": {
        "id": "ZqT6eVS_lvPP"
      },
      "source": [
        "log_dir = 'logs/learning_rate/' + current_time +'/Attention_Resnet/lr=5e-7'\n",
        "summary_writer = tf.summary.create_file_writer(log_dir)\n",
        "model = attention_resnet(output_layer = 'layer4')\n",
        "model = model.to(cuda)\n",
        "optimizer = optim.Adam(model.parameters(), lr=5e-7, betas=(0.9, 0.999), weight_decay=0.001)\n",
        "\n",
        "return_model = train_attention(model, optimizer, train_dataloader, val_dataloader, summary_writer, num_epochs=30)\n",
        "del return_model"
      ],
      "execution_count": null,
      "outputs": []
    },
    {
      "cell_type": "markdown",
      "metadata": {
        "id": "e5HLd5iqlqy-"
      },
      "source": [
        "### lr=5e-6"
      ]
    },
    {
      "cell_type": "code",
      "metadata": {
        "id": "MLb7bbDJlws3"
      },
      "source": [
        "log_dir = 'logs/learning_rate/' + current_time +'/Attention_Resnet/lr=5e-6'\n",
        "summary_writer = tf.summary.create_file_writer(log_dir)\n",
        "model = attention_resnet(output_layer = 'layer4')\n",
        "model = model.to(cuda)\n",
        "optimizer = optim.Adam(model.parameters(), lr=5e-6, betas=(0.9, 0.999), weight_decay=0.001)\n",
        "\n",
        "return_model = train_attention(model, optimizer, train_dataloader, val_dataloader, summary_writer, num_epochs=30)\n",
        "del return_model"
      ],
      "execution_count": null,
      "outputs": []
    },
    {
      "cell_type": "markdown",
      "metadata": {
        "id": "a_wupUyvlsXB"
      },
      "source": [
        "### lr=5e-5"
      ]
    },
    {
      "cell_type": "code",
      "metadata": {
        "id": "NWvbn2eXlz98"
      },
      "source": [
        "log_dir = 'logs/learning_rate/' + current_time +'/Attention_Resnet/lr=5e-5'\n",
        "summary_writer = tf.summary.create_file_writer(log_dir)\n",
        "model = attention_resnet(output_layer = 'layer4')\n",
        "model = model.to(cuda)\n",
        "optimizer = optim.Adam(model.parameters(), lr=5e-5, betas=(0.9, 0.999), weight_decay=0.001)\n",
        "\n",
        "return_model = train_attention(model, optimizer, train_dataloader, val_dataloader, summary_writer, num_epochs=30)\n",
        "del return_model"
      ],
      "execution_count": null,
      "outputs": []
    },
    {
      "cell_type": "markdown",
      "metadata": {
        "id": "4USqozUkltnL"
      },
      "source": [
        "### lr=5e-3"
      ]
    },
    {
      "cell_type": "code",
      "metadata": {
        "id": "qCyrlplHl1-3"
      },
      "source": [
        "log_dir = 'logs/learning_rate/' + current_time +'/Attention_Resnet/lr=5e-3'\n",
        "summary_writer = tf.summary.create_file_writer(log_dir)\n",
        "model = attention_resnet(output_layer = 'layer4')\n",
        "model = model.to(cuda)\n",
        "optimizer = optim.Adam(model.parameters(), lr=5e-3, betas=(0.9, 0.999), weight_decay=0.001)\n",
        "\n",
        "return_model = train_attention(model, optimizer, train_dataloader, val_dataloader, summary_writer, num_epochs=30)\n",
        "del return_model"
      ],
      "execution_count": null,
      "outputs": []
    },
    {
      "cell_type": "markdown",
      "metadata": {
        "id": "bO_vRXu7l6cr"
      },
      "source": [
        "### Tensorboard"
      ]
    },
    {
      "cell_type": "code",
      "metadata": {
        "id": "PjlpAZShl62I"
      },
      "source": [
        "# Load the TensorBoard notebook extension\n",
        "%load_ext tensorboard\n",
        "# %reload_ext tensorboard\n",
        "%tensorboard --logdir logs/learning_rate/0427-1624/"
      ],
      "execution_count": null,
      "outputs": []
    },
    {
      "cell_type": "markdown",
      "metadata": {
        "id": "umbacxAqmYYi"
      },
      "source": [
        "## Full epochs Train"
      ]
    },
    {
      "cell_type": "code",
      "metadata": {
        "id": "1tqPhuzHp3dJ"
      },
      "source": [
        "current_time = datetime.datetime.now().strftime(\"%m%d-%H%M\")\n",
        "print(current_time)\n",
        "log_dir = 'logs/full_epochs/' + current_time +'/Attention_Resnet/lr=5e-6'\n",
        "summary_writer = tf.summary.create_file_writer(log_dir)\n",
        "model = attention_resnet(output_layer = 'layer4')\n",
        "model = model.to(cuda)\n",
        "optimizer = optim.Adam(model.parameters(), lr=5e-6, betas=(0.9, 0.999), weight_decay=0.001)\n",
        "\n",
        "return_model = train_attention(model, optimizer, train_dataloader, val_dataloader, summary_writer, num_epochs=70)"
      ],
      "execution_count": null,
      "outputs": []
    },
    {
      "cell_type": "code",
      "metadata": {
        "id": "j6wxHvZgqeA8"
      },
      "source": [
        "# Load the TensorBoard notebook extension\n",
        "%load_ext tensorboard\n",
        "# %reload_ext tensorboard\n",
        "%tensorboard --logdir logs/full_epochs/0427-1721/"
      ],
      "execution_count": null,
      "outputs": []
    },
    {
      "cell_type": "markdown",
      "metadata": {
        "id": "GgiqcRAintBH"
      },
      "source": [
        "## Test"
      ]
    },
    {
      "cell_type": "code",
      "metadata": {
        "id": "da0ExX_tntBI"
      },
      "source": [
        "hyper_parameters = {\n",
        "    # Training Control Parameters\n",
        "    \n",
        "    # Dataset Parameters\n",
        "    'max_bag_size': 200,\n",
        "    'dataset_max_size': None,\n",
        "    'with_data_augmentation': False,\n",
        "    # 'with_tensorboard': not args.no_tensorboard,\n",
        "    'seed': 123,\n",
        "    # 'val_size': 0.15,\n",
        "    # 'test_size': 0,\n",
        "    'val_size': 0.02,\n",
        "    'test_size': 0.95,\n",
        "}\n",
        "\n",
        "logger = None\n",
        "input_width = 224\n",
        "train_dataset, val_dataset, test_dataset, whole_cases_ids, whole_indexes, whole_dataset = build_datasets(source_slides_folders=slides_folders,\n",
        "                                                              model_input_width=input_width,\n",
        "                                                              hyper_parameters=hyper_parameters,\n",
        "                                                              logger=logger)\n",
        "N_PROCESSES = 5\n",
        "def to_dataloader(dataset, for_training):\n",
        "    assert isinstance(dataset, Dataset) or isinstance(dataset, torch.utils.data.Subset)\n",
        "    return torch.utils.data.DataLoader(dataset, batch_size=1, shuffle=for_training, num_workers=N_PROCESSES)\n",
        "\n",
        "train_dataloader = to_dataloader(train_dataset, True)\n",
        "val_dataloader = to_dataloader(val_dataset, False) if len(val_dataset) else None\n",
        "test_dataloader = to_dataloader(test_dataset, False) if len(test_dataset) else None"
      ],
      "execution_count": null,
      "outputs": []
    },
    {
      "cell_type": "code",
      "metadata": {
        "id": "QUB-w5isntBJ"
      },
      "source": [
        "train_carcinoma = 0\n",
        "train_non_carcinoma = 0\n",
        "try:\n",
        "  for batch_idx, (data, bag_label) in enumerate(train_dataloader):\n",
        "    if bag_label == torch.Tensor([0]):\n",
        "      train_carcinoma += 1\n",
        "    else:\n",
        "      train_non_carcinoma += 1\n",
        "  print(\"There are %d carcinoma and %d non-carcinoma samples in the training set\" %(train_carcinoma, train_non_carcinoma))\n",
        "except TypeError:\n",
        "  print(\"Nan\")\n",
        "\n",
        "val_carcinoma = 0\n",
        "val_non_carcinoma = 0\n",
        "try:\n",
        "  for batch_idx, (data, bag_label) in enumerate(val_dataloader):\n",
        "    if bag_label == torch.Tensor([0]):\n",
        "      val_carcinoma += 1\n",
        "    else:\n",
        "      val_non_carcinoma += 1\n",
        "  print(\"There are %d carcinoma and %d non-carcinoma samples in the validation set\" %(val_carcinoma, val_non_carcinoma))\n",
        "except TypeError:\n",
        "  print(\"Nan\")\n",
        "\n",
        "test_carcinoma = 0\n",
        "test_non_carcinoma = 0\n",
        "try:\n",
        "  for batch_idx, (data, bag_label) in enumerate(test_dataloader):\n",
        "    if bag_label == torch.Tensor([0]):\n",
        "      test_carcinoma += 1\n",
        "    else:\n",
        "      test_non_carcinoma += 1\n",
        "  print(\"There are %d carcinoma and %d non-carcinoma samples in the test set\" %(test_carcinoma, test_non_carcinoma))\n",
        "except TypeError:\n",
        "  print(\"Nan\")"
      ],
      "execution_count": null,
      "outputs": []
    },
    {
      "cell_type": "code",
      "metadata": {
        "id": "xNmDyC1EntBJ"
      },
      "source": [
        "final = test(return_model, optimizer, test_dataloader)"
      ],
      "execution_count": null,
      "outputs": []
    }
  ]
}